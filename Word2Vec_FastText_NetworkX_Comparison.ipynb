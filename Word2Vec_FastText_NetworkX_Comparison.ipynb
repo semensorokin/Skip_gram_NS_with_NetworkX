{
  "nbformat": 4,
  "nbformat_minor": 0,
  "metadata": {
    "kernelspec": {
      "display_name": "Python 3",
      "language": "python",
      "name": "python3"
    },
    "language_info": {
      "codemirror_mode": {
        "name": "ipython",
        "version": 3
      },
      "file_extension": ".py",
      "mimetype": "text/x-python",
      "name": "python",
      "nbconvert_exporter": "python",
      "pygments_lexer": "ipython3",
      "version": "3.4.3"
    },
    "colab": {
      "name": "Copy of Word2Vec_FastText_Comparison.ipynb",
      "provenance": []
    }
  },
  "cells": [
    {
      "cell_type": "code",
      "metadata": {
        "id": "0qf-wdNk_Fpx",
        "colab_type": "code",
        "outputId": "1c3d1ef6-910b-4b7b-a9cb-767f302fb3b2",
        "colab": {
          "base_uri": "https://localhost:8080/",
          "height": 139
        }
      },
      "source": [
        "from google.colab import drive\n",
        "drive.mount('/content/gdrive')\n",
        "%cd gdrive/'My Drive'/"
      ],
      "execution_count": 0,
      "outputs": [
        {
          "output_type": "stream",
          "text": [
            "Go to this URL in a browser: https://accounts.google.com/o/oauth2/auth?client_id=947318989803-6bn6qk8qdgf4n4g3pfee6491hc0brc4i.apps.googleusercontent.com&redirect_uri=urn%3aietf%3awg%3aoauth%3a2.0%3aoob&response_type=code&scope=email%20https%3a%2f%2fwww.googleapis.com%2fauth%2fdocs.test%20https%3a%2f%2fwww.googleapis.com%2fauth%2fdrive%20https%3a%2f%2fwww.googleapis.com%2fauth%2fdrive.photos.readonly%20https%3a%2f%2fwww.googleapis.com%2fauth%2fpeopleapi.readonly\n",
            "\n",
            "Enter your authorization code:\n",
            "··········\n",
            "Mounted at /content/gdrive\n",
            "/content/gdrive/My Drive\n"
          ],
          "name": "stdout"
        }
      ]
    },
    {
      "cell_type": "markdown",
      "metadata": {
        "id": "xtYy1RCY-Wyy",
        "colab_type": "text"
      },
      "source": [
        "# Download data"
      ]
    },
    {
      "cell_type": "code",
      "metadata": {
        "id": "ceBsr92S-Wy1",
        "colab_type": "code",
        "outputId": "4537dbbb-9250-4fc7-9cdf-95370db68724",
        "colab": {
          "base_uri": "https://localhost:8080/",
          "height": 105
        }
      },
      "source": [
        "import nltk\n",
        "from smart_open import smart_open\n",
        "nltk.download('brown') \n",
        "# Only the brown corpus is needed in case you don't have it.\n",
        "\n",
        "# Generate brown corpus text file\n",
        "with smart_open('brown_corp.txt', 'w+') as f:\n",
        "    for word in nltk.corpus.brown.words():\n",
        "        f.write('{word} '.format(word=word.lower()))\n",
        "\n",
        "# Make sure you set FT_HOME to your fastText directory root\n",
        "FT_HOME = 'fastText-0.9.1/'\n",
        "# download the text8 corpus (a 100 MB sample of cleaned wikipedia text)\n",
        "import os.path\n",
        "if not os.path.isfile('text8'):\n",
        "    !wget -c http://mattmahoney.net/dc/text8.zip\n",
        "    !unzip text8.zip"
      ],
      "execution_count": 0,
      "outputs": [
        {
          "output_type": "stream",
          "text": [
            "[nltk_data] Downloading package brown to /root/nltk_data...\n",
            "[nltk_data]   Unzipping corpora/brown.zip.\n"
          ],
          "name": "stdout"
        },
        {
          "output_type": "stream",
          "text": [
            "/usr/local/lib/python3.6/dist-packages/smart_open/smart_open_lib.py:402: UserWarning: This function is deprecated, use smart_open.open instead. See the migration notes for details: https://github.com/RaRe-Technologies/smart_open/blob/master/README.rst#migrating-to-the-new-open-function\n",
            "  'See the migration notes for details: %s' % _MIGRATION_NOTES_URL\n"
          ],
          "name": "stderr"
        }
      ]
    },
    {
      "cell_type": "markdown",
      "metadata": {
        "id": "iGwzwwi4-WzS",
        "colab_type": "text"
      },
      "source": [
        "# Train models"
      ]
    },
    {
      "cell_type": "code",
      "metadata": {
        "id": "6JmCPETRIdra",
        "colab_type": "code",
        "colab": {}
      },
      "source": [
        "!wget https://github.com/facebookresearch/fastText/archive/v0.9.1.zip\n",
        "!unzip v0.9.1.zip"
      ],
      "execution_count": 0,
      "outputs": []
    },
    {
      "cell_type": "code",
      "metadata": {
        "id": "BjWJjIEAIm1g",
        "colab_type": "code",
        "outputId": "1547bf44-7253-41f5-ffe1-cab303ad8108",
        "colab": {
          "base_uri": "https://localhost:8080/",
          "height": 34
        }
      },
      "source": [
        "%cd fastText-0.9.1"
      ],
      "execution_count": 0,
      "outputs": [
        {
          "output_type": "stream",
          "text": [
            "/content/gdrive/My Drive/fastText-0.9.1\n"
          ],
          "name": "stdout"
        }
      ]
    },
    {
      "cell_type": "code",
      "metadata": {
        "id": "GzR8Z5wgIuDh",
        "colab_type": "code",
        "outputId": "02b42128-0d95-4b1f-a5b5-e341ffca7076",
        "colab": {
          "base_uri": "https://localhost:8080/",
          "height": 476
        }
      },
      "source": [
        "!make"
      ],
      "execution_count": 0,
      "outputs": [
        {
          "output_type": "stream",
          "text": [
            "c++ -pthread -std=c++0x -march=native -O3 -funroll-loops -DNDEBUG -c src/args.cc\n",
            "c++ -pthread -std=c++0x -march=native -O3 -funroll-loops -DNDEBUG -c src/matrix.cc\n",
            "c++ -pthread -std=c++0x -march=native -O3 -funroll-loops -DNDEBUG -c src/dictionary.cc\n",
            "c++ -pthread -std=c++0x -march=native -O3 -funroll-loops -DNDEBUG -c src/loss.cc\n",
            "c++ -pthread -std=c++0x -march=native -O3 -funroll-loops -DNDEBUG -c src/productquantizer.cc\n",
            "c++ -pthread -std=c++0x -march=native -O3 -funroll-loops -DNDEBUG -c src/densematrix.cc\n",
            "c++ -pthread -std=c++0x -march=native -O3 -funroll-loops -DNDEBUG -c src/quantmatrix.cc\n",
            "c++ -pthread -std=c++0x -march=native -O3 -funroll-loops -DNDEBUG -c src/vector.cc\n",
            "c++ -pthread -std=c++0x -march=native -O3 -funroll-loops -DNDEBUG -c src/model.cc\n",
            "c++ -pthread -std=c++0x -march=native -O3 -funroll-loops -DNDEBUG -c src/utils.cc\n",
            "c++ -pthread -std=c++0x -march=native -O3 -funroll-loops -DNDEBUG -c src/meter.cc\n",
            "c++ -pthread -std=c++0x -march=native -O3 -funroll-loops -DNDEBUG -c src/fasttext.cc\n",
            "\u001b[01m\u001b[Ksrc/fasttext.cc:\u001b[m\u001b[K In member function ‘\u001b[01m\u001b[Kvoid fasttext::FastText::quantize(const fasttext::Args&)\u001b[m\u001b[K’:\n",
            "\u001b[01m\u001b[Ksrc/fasttext.cc:323:45:\u001b[m\u001b[K \u001b[01;35m\u001b[Kwarning: \u001b[m\u001b[K‘\u001b[01m\u001b[Kstd::vector<int> fasttext::FastText::selectEmbeddings(int32_t) const\u001b[m\u001b[K’ is deprecated: selectEmbeddings is being deprecated. [\u001b[01;35m\u001b[K-Wdeprecated-declarations\u001b[m\u001b[K]\n",
            "     auto idx = selectEmbeddings(qargs.cutoff\u001b[01;35m\u001b[K)\u001b[m\u001b[K;\n",
            "                                             \u001b[01;35m\u001b[K^\u001b[m\u001b[K\n",
            "\u001b[01m\u001b[Ksrc/fasttext.cc:293:22:\u001b[m\u001b[K \u001b[01;36m\u001b[Knote: \u001b[m\u001b[Kdeclared here\n",
            " std::vector<int32_t> \u001b[01;36m\u001b[KFastText\u001b[m\u001b[K::selectEmbeddings(int32_t cutoff) const {\n",
            "                      \u001b[01;36m\u001b[K^~~~~~~~\u001b[m\u001b[K\n",
            "\u001b[01m\u001b[Ksrc/fasttext.cc:\u001b[m\u001b[K In member function ‘\u001b[01m\u001b[Kvoid fasttext::FastText::lazyComputeWordVectors()\u001b[m\u001b[K’:\n",
            "\u001b[01m\u001b[Ksrc/fasttext.cc:551:40:\u001b[m\u001b[K \u001b[01;35m\u001b[Kwarning: \u001b[m\u001b[K‘\u001b[01m\u001b[Kvoid fasttext::FastText::precomputeWordVectors(fasttext::DenseMatrix&)\u001b[m\u001b[K’ is deprecated: precomputeWordVectors is being deprecated. [\u001b[01;35m\u001b[K-Wdeprecated-declarations\u001b[m\u001b[K]\n",
            "     precomputeWordVectors(*wordVectors_\u001b[01;35m\u001b[K)\u001b[m\u001b[K;\n",
            "                                        \u001b[01;35m\u001b[K^\u001b[m\u001b[K\n",
            "\u001b[01m\u001b[Ksrc/fasttext.cc:534:6:\u001b[m\u001b[K \u001b[01;36m\u001b[Knote: \u001b[m\u001b[Kdeclared here\n",
            " void \u001b[01;36m\u001b[KFastText\u001b[m\u001b[K::precomputeWordVectors(DenseMatrix& wordVectors) {\n",
            "      \u001b[01;36m\u001b[K^~~~~~~~\u001b[m\u001b[K\n",
            "c++ -pthread -std=c++0x -march=native -O3 -funroll-loops -DNDEBUG args.o matrix.o dictionary.o loss.o productquantizer.o densematrix.o quantmatrix.o vector.o model.o utils.o meter.o fasttext.o src/main.cc -o fasttext\n"
          ],
          "name": "stdout"
        }
      ]
    },
    {
      "cell_type": "code",
      "metadata": {
        "id": "gkoDfOEOI4dd",
        "colab_type": "code",
        "outputId": "2ea839ac-c94a-4f64-eafd-d7f08ecc5271",
        "colab": {
          "base_uri": "https://localhost:8080/",
          "height": 204
        }
      },
      "source": [
        "!pip install ."
      ],
      "execution_count": 0,
      "outputs": [
        {
          "output_type": "stream",
          "text": [
            "Processing /content/gdrive/My Drive/fastText-0.9.1\n",
            "Requirement already satisfied: pybind11>=2.2 in /usr/local/lib/python3.6/dist-packages (from fasttext==0.9.1) (2.4.3)\n",
            "Requirement already satisfied: setuptools>=0.7.0 in /usr/local/lib/python3.6/dist-packages (from fasttext==0.9.1) (42.0.2)\n",
            "Requirement already satisfied: numpy in /usr/local/lib/python3.6/dist-packages (from fasttext==0.9.1) (1.17.4)\n",
            "Building wheels for collected packages: fasttext\n",
            "  Building wheel for fasttext (setup.py) ... \u001b[?25l\u001b[?25hdone\n",
            "  Created wheel for fasttext: filename=fasttext-0.9.1-cp36-cp36m-linux_x86_64.whl size=2388079 sha256=ae50dea518a48c77407472d5c08f701778a84d661826e09a49f3b1385bb8c783\n",
            "  Stored in directory: /root/.cache/pip/wheels/cf/23/9d/86084f6316701f7634a7b1b82d2bb946b19378edf14109f624\n",
            "Successfully built fasttext\n",
            "Installing collected packages: fasttext\n",
            "Successfully installed fasttext-0.9.1\n"
          ],
          "name": "stdout"
        }
      ]
    },
    {
      "cell_type": "code",
      "metadata": {
        "id": "9iT8uEQ8JHIW",
        "colab_type": "code",
        "outputId": "b2c327cf-58d8-405e-f968-47dd548bba25",
        "colab": {
          "base_uri": "https://localhost:8080/",
          "height": 34
        }
      },
      "source": [
        "%cd .."
      ],
      "execution_count": 0,
      "outputs": [
        {
          "output_type": "stream",
          "text": [
            "/content/gdrive/My Drive\n"
          ],
          "name": "stdout"
        }
      ]
    },
    {
      "cell_type": "code",
      "metadata": {
        "id": "r7Y6tSCRgQV3",
        "colab_type": "code",
        "colab": {}
      },
      "source": [
        "#!rm -r fastText-0.9.1"
      ],
      "execution_count": 0,
      "outputs": []
    },
    {
      "cell_type": "markdown",
      "metadata": {
        "id": "oDygSiG8foWg",
        "colab_type": "text"
      },
      "source": [
        "#Word Sampling\n"
      ]
    },
    {
      "cell_type": "code",
      "metadata": {
        "id": "zmGn9QejiYbG",
        "colab_type": "code",
        "colab": {}
      },
      "source": [
        "import networkx as nx\n",
        "import re \n",
        "import numpy as np\n",
        "\n",
        "def create_g(f, number_of_w, sub=''):\n",
        "  dG = nx.Graph()\n",
        "  wordList2 = re.findall('\\w+', f)\n",
        "  for indx, word in enumerate(wordList2[:-2]):\n",
        "    next_word = wordList2[indx + 1]\n",
        "\n",
        "    if not dG.has_node(word):\n",
        "        dG.add_node(word)\n",
        "        dG.nodes[word]['count'] = 1\n",
        "    else:\n",
        "        dG.nodes[word]['count'] += 1\n",
        "    if not dG.has_node(next_word):\n",
        "        dG.add_node(next_word)\n",
        "        dG.nodes[next_word]['count'] = 1\n",
        "    if not dG.has_edge(word, next_word):\n",
        "        dG.add_edge(word, next_word, weight=1)\n",
        "    else:\n",
        "        dG.edges[(word, next_word)]['weight'] += 1\n",
        "\n",
        "  n_d = [(n,d) for n, d in dG.degree()]\n",
        "  degree_sequence = sorted(n_d, key = lambda x:x[1], reverse=True)\n",
        "  w_sence = degree_sequence[:number_of_w]\n",
        "  print('Nomber of nodes: {}'.format(len(dG.nodes())))\n",
        "  a = '('\n",
        "  for i in w_sence:\n",
        "    a+=' '+i[0]+' |'\n",
        "  a = a[:-1]\n",
        "  a+=')'\n",
        "  print('Which words will be deleted or replaced: \\n {}'.format(a))\n",
        "  res = re.sub(a, sub, f)\n",
        "  return res, dG"
      ],
      "execution_count": 0,
      "outputs": []
    },
    {
      "cell_type": "code",
      "metadata": {
        "id": "HVeb9nzThwYw",
        "colab_type": "code",
        "outputId": "e24a8096-4e48-4de4-c991-41ed43f91187",
        "colab": {
          "base_uri": "https://localhost:8080/",
          "height": 122
        }
      },
      "source": [
        "br = open('brown_corp.txt', 'r').read()\n",
        "br_gr = create_g(br, 20, 'X')\n",
        "with smart_open('brown_corp_cl.txt', 'w+') as g:\n",
        "  g.write(br_gr[0])"
      ],
      "execution_count": 0,
      "outputs": [
        {
          "output_type": "stream",
          "text": [
            "Nomber of nodes: 42431\n",
            "Which words will be deleted or replaced: \n",
            " ( the | and | of | in | a | to | for | was | with | is | that | s | as | he | his | or | by | on | it | at )\n"
          ],
          "name": "stdout"
        },
        {
          "output_type": "stream",
          "text": [
            "/usr/local/lib/python3.6/dist-packages/smart_open/smart_open_lib.py:402: UserWarning: This function is deprecated, use smart_open.open instead. See the migration notes for details: https://github.com/RaRe-Technologies/smart_open/blob/master/README.rst#migrating-to-the-new-open-function\n",
            "  'See the migration notes for details: %s' % _MIGRATION_NOTES_URL\n"
          ],
          "name": "stderr"
        }
      ]
    },
    {
      "cell_type": "code",
      "metadata": {
        "id": "2CQv_IYRifjs",
        "colab_type": "code",
        "outputId": "ac5bdd61-ff90-47e7-983c-8679a8b4e437",
        "colab": {
          "base_uri": "https://localhost:8080/",
          "height": 122
        }
      },
      "source": [
        "br = open('text8', 'r').read()\n",
        "text8 = create_g(br, 40, 'X')\n",
        "with smart_open('text8_cl', 'w+') as g:\n",
        "  g.write(text8[0])"
      ],
      "execution_count": 0,
      "outputs": [
        {
          "output_type": "stream",
          "text": [
            "Nomber of nodes: 253854\n",
            "Which words will be deleted or replaced: \n",
            " ( the | and | of | in | a | to | one | or | is | as | s | by | for | with | was | on | from | that | two | are | which | at | it | this | but | three | also | an | his | were | four | zero | he | five | has | who | six | see | their | some )\n"
          ],
          "name": "stdout"
        },
        {
          "output_type": "stream",
          "text": [
            "/usr/local/lib/python3.6/dist-packages/smart_open/smart_open_lib.py:402: UserWarning: This function is deprecated, use smart_open.open instead. See the migration notes for details: https://github.com/RaRe-Technologies/smart_open/blob/master/README.rst#migrating-to-the-new-open-function\n",
            "  'See the migration notes for details: %s' % _MIGRATION_NOTES_URL\n"
          ],
          "name": "stderr"
        }
      ]
    },
    {
      "cell_type": "code",
      "metadata": {
        "id": "PJfUpqZaxbO5",
        "colab_type": "code",
        "outputId": "c241aad0-11e7-4710-f190-0a165f9e09ea",
        "colab": {
          "base_uri": "https://localhost:8080/",
          "height": 85
        }
      },
      "source": [
        "bron_wo_gr = br_gr[1]\n",
        "def statistics(G):\n",
        "  print('Important statistics of the graph')\n",
        "  print('Number of edges in graph :',len(list(G.edges)))\n",
        "  print('Number of nodes in graph :',len(list(G.nodes)))\n",
        "  print('Density : {}'.format(len(list(G.edges))/(len(list(G.nodes))*(len(list(G.nodes))-1))))\n",
        "  #print('Diameter : {0:0.02f}'.format(nx.diameter(G)))\n",
        "  #print('Avg. cl. coef : {0:0.02f}'.format(nx.average_clustering(G)))\n",
        "  #print('Average path length : {0:0.02f}'.format(nx.average_shortest_path_length(G)))\n",
        "  #print('Transitivity : {0:0.02f}'.format(nx.transitivity(G)))\n",
        "  \n",
        "\n",
        "statistics(bron_wo_gr)"
      ],
      "execution_count": 0,
      "outputs": [
        {
          "output_type": "stream",
          "text": [
            "Important statistics of the graph\n",
            "Number of edges in graph : 421272\n",
            "Number of nodes in graph : 42431\n",
            "Density : 0.00023399484809411749\n"
          ],
          "name": "stdout"
        }
      ]
    },
    {
      "cell_type": "code",
      "metadata": {
        "id": "N5IDvqQOzbJQ",
        "colab_type": "code",
        "outputId": "40609935-6cc1-400f-9e6a-4bfeeaf7f9d4",
        "colab": {
          "base_uri": "https://localhost:8080/",
          "height": 85
        }
      },
      "source": [
        "text8_wo_gr = text8[1]\n",
        "statistics(text8_wo_gr)"
      ],
      "execution_count": 0,
      "outputs": [
        {
          "output_type": "stream",
          "text": [
            "Important statistics of the graph\n",
            "Number of edges in graph : 3794519\n",
            "Number of nodes in graph : 253854\n",
            "Density : 5.8883066709688926e-05\n"
          ],
          "name": "stdout"
        }
      ]
    },
    {
      "cell_type": "code",
      "metadata": {
        "id": "4upG0DEKz2vN",
        "colab_type": "code",
        "colab": {}
      },
      "source": [
        "import matplotlib.pyplot as plt\n",
        "import math\n",
        "def plot_log_dist(g):\n",
        "  nodes =[i for i in g.nodes(data=True)]\n",
        "  sort_nodes = sorted(nodes, key = lambda x:x[1]['count'], reverse=True)\n",
        "  plt.plot([math.log(i[1]['count']) for i in sort_nodes])\n",
        "  plt.xlabel('Node Id')\n",
        "  plt.ylabel('log(degree(k))')\n",
        "  plt.title('Degree Distribution')\n",
        "  plt.show()"
      ],
      "execution_count": 0,
      "outputs": []
    },
    {
      "cell_type": "code",
      "metadata": {
        "id": "kGxa6mRfz--a",
        "colab_type": "code",
        "outputId": "fda92514-5ca7-4bf9-ba0c-d5c314f4837d",
        "colab": {
          "base_uri": "https://localhost:8080/",
          "height": 295
        }
      },
      "source": [
        "plot_log_dist(bron_wo_gr)"
      ],
      "execution_count": 0,
      "outputs": [
        {
          "output_type": "display_data",
          "data": {
            "image/png": "[encoded data removed]",
            "text/plain": [
              "<Figure size 432x288 with 1 Axes>"
            ]
          },
          "metadata": {
            "tags": []
          }
        }
      ]
    },
    {
      "cell_type": "code",
      "metadata": {
        "id": "jxeWoEkm1b_x",
        "colab_type": "code",
        "outputId": "5cf8703a-c7c2-4b03-9836-bef804891da7",
        "colab": {
          "base_uri": "https://localhost:8080/",
          "height": 295
        }
      },
      "source": [
        "plot_log_dist(text8_wo_gr)"
      ],
      "execution_count": 0,
      "outputs": [
        {
          "output_type": "display_data",
          "data": {
            "image/png": "[encoded data removed]",
            "text/plain": [
              "<Figure size 432x288 with 1 Axes>"
            ]
          },
          "metadata": {
            "tags": []
          }
        }
      ]
    },
    {
      "cell_type": "code",
      "metadata": {
        "id": "q0U6IF4U3-UP",
        "colab_type": "code",
        "colab": {}
      },
      "source": [
        "def creat_subg(g):\n",
        "  nodes =[i for i in g.nodes(data=True)]\n",
        "  sort_nodes = sorted(nodes, key = lambda x:x[1]['count'], reverse=True)\n",
        "  print(sort_nodes[:150])\n",
        "  not_important = sort_nodes[:150]+sort_nodes[2500:]\n",
        "  sub_graph = g\n",
        "  for i in not_important:\n",
        "    sub_graph.remove_node(i[0])\n",
        "  return sub_graph, [i for i, j in sort_nodes[:150]]"
      ],
      "execution_count": 0,
      "outputs": []
    },
    {
      "cell_type": "code",
      "metadata": {
        "id": "ItrfVvPIz5MH",
        "colab_type": "code",
        "outputId": "c1232233-4dcc-4a8f-c1ba-7bfac19e624d",
        "colab": {
          "base_uri": "https://localhost:8080/",
          "height": 332
        }
      },
      "source": [
        "sub_bron_wo_gr = creat_subg(bron_wo_gr)\n",
        "plot_log_dist(sub_bron_wo_gr[0])"
      ],
      "execution_count": 0,
      "outputs": [
        {
          "output_type": "stream",
          "text": [
            "[('the', {'count': 70003}), ('of', {'count': 36474}), ('and', {'count': 28936}), ('to', {'count': 26248}), ('a', {'count': 23503}), ('in', {'count': 21423}), ('that', {'count': 10790}), ('is', {'count': 10110}), ('was', {'count': 9815}), ('he', {'count': 9802}), ('for', {'count': 9501}), ('it', {'count': 9095}), ('with', {'count': 7291}), ('as', {'count': 7256}), ('his', {'count': 7000}), ('on', {'count': 6766}), ('be', {'count': 6389}), ('s', {'count': 6251}), ('i', {'count': 5933}), ('at', {'count': 5378}), ('by', {'count': 5347}), ('this', {'count': 5147}), ('had', {'count': 5134}), ('not', {'count': 4621}), ('are', {'count': 4395}), ('but', {'count': 4383}), ('from', {'count': 4372}), ('or', {'count': 4227}), ('have', {'count': 3943}), ('they', {'count': 3764}), ('an', {'count': 3752}), ('you', {'count': 3635}), ('which', {'count': 3562}), ('one', {'count': 3505}), ('were', {'count': 3286}), ('all', {'count': 3100}), ('her', {'count': 3037}), ('she', {'count': 2988}), ('we', {'count': 2845}), ('there', {'count': 2845}), ('would', {'count': 2720}), ('their', {'count': 2671}), ('him', {'count': 2620}), ('been', {'count': 2473}), ('has', {'count': 2438}), ('when', {'count': 2332}), ('who', {'count': 2281}), ('will', {'count': 2252}), ('t', {'count': 2247}), ('more', {'count': 2226}), ('no', {'count': 2220}), ('if', {'count': 2199}), ('out', {'count': 2168}), ('so', {'count': 2034}), ('up', {'count': 1975}), ('what', {'count': 1969}), ('said', {'count': 1962}), ('can', {'count': 1943}), ('its', {'count': 1859}), ('about', {'count': 1818}), ('than', {'count': 1797}), ('into', {'count': 1792}), ('them', {'count': 1791}), ('only', {'count': 1749}), ('other', {'count': 1715}), ('time', {'count': 1696}), ('new', {'count': 1647}), ('some', {'count': 1619}), ('could', {'count': 1603}), ('these', {'count': 1574}), ('two', {'count': 1517}), ('may', {'count': 1403}), ('first', {'count': 1390}), ('then', {'count': 1381}), ('do', {'count': 1376}), ('man', {'count': 1365}), ('any', {'count': 1345}), ('like', {'count': 1344}), ('my', {'count': 1320}), ('now', {'count': 1318}), ('over', {'count': 1308}), ('such', {'count': 1304}), ('our', {'count': 1254}), ('me', {'count': 1186}), ('even', {'count': 1174}), ('most', {'count': 1163}), ('made', {'count': 1148}), ('after', {'count': 1078}), ('also', {'count': 1070}), ('did', {'count': 1045}), ('many', {'count': 1038}), ('before', {'count': 1017}), ('must', {'count': 1016}), ('well', {'count': 1007}), ('af', {'count': 1006}), ('back', {'count': 977}), ('through', {'count': 975}), ('years', {'count': 961}), ('where', {'count': 949}), ('much', {'count': 944}), ('your', {'count': 926}), ('way', {'count': 926}), ('down', {'count': 924}), ('state', {'count': 901}), ('should', {'count': 889}), ('1', {'count': 888}), ('because', {'count': 884}), ('long', {'count': 880}), ('each', {'count': 878}), ('just', {'count': 873}), ('people', {'count': 870}), ('how', {'count': 852}), ('world', {'count': 852}), ('those', {'count': 851}), ('mr', {'count': 845}), ('too', {'count': 843}), ('year', {'count': 837}), ('little', {'count': 835}), ('good', {'count': 833}), ('2', {'count': 817}), ('make', {'count': 806}), ('very', {'count': 797}), ('men', {'count': 789}), ('still', {'count': 786}), ('see', {'count': 776}), ('work', {'count': 775}), ('day', {'count': 774}), ('own', {'count': 774}), ('here', {'count': 762}), ('get', {'count': 753}), ('old', {'count': 748}), ('life', {'count': 737}), ('both', {'count': 731}), ('between', {'count': 731}), ('being', {'count': 722}), ('under', {'count': 718}), ('three', {'count': 705}), ('never', {'count': 700}), ('know', {'count': 693}), ('another', {'count': 690}), ('same', {'count': 687}), ('last', {'count': 685}), ('while', {'count': 682}), ('off', {'count': 676}), ('us', {'count': 676}), ('might', {'count': 673}), ('great', {'count': 672}), ('go', {'count': 634}), ('come', {'count': 633}), ('since', {'count': 629})]\n"
          ],
          "name": "stdout"
        },
        {
          "output_type": "display_data",
          "data": {
            "image/png": "[encoded data removed]",
            "text/plain": [
              "<Figure size 432x288 with 1 Axes>"
            ]
          },
          "metadata": {
            "tags": []
          }
        }
      ]
    },
    {
      "cell_type": "code",
      "metadata": {
        "id": "FdQEHymG5vPc",
        "colab_type": "code",
        "outputId": "49f89da3-42e7-4e79-e98d-a52daedacbc7",
        "colab": {
          "base_uri": "https://localhost:8080/",
          "height": 332
        }
      },
      "source": [
        "sub_text8_wo_gr = creat_subg(text8_wo_gr)\n",
        "plot_log_dist(sub_text8_wo_gr[0])"
      ],
      "execution_count": 0,
      "outputs": [
        {
          "output_type": "stream",
          "text": [
            "[('the', {'count': 1061397}), ('of', {'count': 593678}), ('and', {'count': 416630}), ('one', {'count': 411765}), ('in', {'count': 372202}), ('a', {'count': 325874}), ('to', {'count': 316377}), ('zero', {'count': 264976}), ('nine', {'count': 250431}), ('two', {'count': 192645}), ('is', {'count': 183154}), ('as', {'count': 131816}), ('eight', {'count': 125286}), ('for', {'count': 118446}), ('s', {'count': 116711}), ('five', {'count': 115789}), ('three', {'count': 114776}), ('was', {'count': 112808}), ('by', {'count': 111832}), ('that', {'count': 109511}), ('four', {'count': 108183}), ('six', {'count': 102146}), ('seven', {'count': 99684}), ('with', {'count': 95604}), ('on', {'count': 91251}), ('are', {'count': 76528}), ('it', {'count': 73335}), ('from', {'count': 72872}), ('or', {'count': 68946}), ('his', {'count': 62604}), ('an', {'count': 61926}), ('be', {'count': 61282}), ('this', {'count': 58833}), ('which', {'count': 54789}), ('at', {'count': 54577}), ('he', {'count': 53574}), ('also', {'count': 44359}), ('not', {'count': 44034}), ('have', {'count': 39713}), ('were', {'count': 39087}), ('has', {'count': 37867}), ('but', {'count': 35359}), ('other', {'count': 32434}), ('their', {'count': 31524}), ('its', {'count': 29568}), ('first', {'count': 28811}), ('they', {'count': 28554}), ('some', {'count': 28162}), ('had', {'count': 28101}), ('all', {'count': 26230}), ('more', {'count': 26224}), ('most', {'count': 25564}), ('can', {'count': 25520}), ('been', {'count': 25384}), ('such', {'count': 24414}), ('many', {'count': 24097}), ('who', {'count': 23998}), ('new', {'count': 23771}), ('used', {'count': 22738}), ('there', {'count': 22708}), ('after', {'count': 21126}), ('when', {'count': 20624}), ('into', {'count': 20485}), ('american', {'count': 20478}), ('time', {'count': 20413}), ('these', {'count': 19865}), ('only', {'count': 19464}), ('see', {'count': 19207}), ('may', {'count': 19116}), ('than', {'count': 18808}), ('world', {'count': 17950}), ('i', {'count': 17582}), ('b', {'count': 17516}), ('would', {'count': 17378}), ('d', {'count': 17237}), ('no', {'count': 16156}), ('however', {'count': 15862}), ('between', {'count': 15738}), ('about', {'count': 15575}), ('over', {'count': 15123}), ('years', {'count': 14936}), ('states', {'count': 14917}), ('people', {'count': 14697}), ('war', {'count': 14630}), ('during', {'count': 14579}), ('united', {'count': 14495}), ('known', {'count': 14438}), ('if', {'count': 14421}), ('called', {'count': 14152}), ('use', {'count': 14012}), ('th', {'count': 13381}), ('system', {'count': 13297}), ('often', {'count': 12988}), ('state', {'count': 12905}), ('so', {'count': 12723}), ('history', {'count': 12624}), ('will', {'count': 12561}), ('up', {'count': 12446}), ('while', {'count': 12364}), ('where', {'count': 12348}), ('city', {'count': 12276}), ('being', {'count': 11932}), ('english', {'count': 11869}), ('then', {'count': 11848}), ('any', {'count': 11804}), ('both', {'count': 11756}), ('under', {'count': 11754}), ('out', {'count': 11722}), ('made', {'count': 11702}), ('well', {'count': 11538}), ('her', {'count': 11537}), ('e', {'count': 11427}), ('number', {'count': 11400}), ('government', {'count': 11324}), ('them', {'count': 11286}), ('m', {'count': 10977}), ('later', {'count': 10972}), ('since', {'count': 10692}), ('him', {'count': 10630}), ('part', {'count': 10628}), ('name', {'count': 10573}), ('c', {'count': 10562}), ('century', {'count': 10551}), ('through', {'count': 10372}), ('because', {'count': 10333}), ('x', {'count': 10308}), ('university', {'count': 10196}), ('early', {'count': 10173}), ('life', {'count': 10097}), ('british', {'count': 10057}), ('year', {'count': 9859}), ('like', {'count': 9855}), ('same', {'count': 9775}), ('including', {'count': 9634}), ('became', {'count': 9592}), ('example', {'count': 9540}), ('day', {'count': 9535}), ('each', {'count': 9501}), ('even', {'count': 9413}), ('work', {'count': 9389}), ('language', {'count': 9376}), ('although', {'count': 9287}), ('several', {'count': 9169}), ('form', {'count': 9134}), ('john', {'count': 8957}), ('u', {'count': 8929}), ('national', {'count': 8905}), ('very', {'count': 8862}), ('much', {'count': 8823}), ('g', {'count': 8774})]\n"
          ],
          "name": "stdout"
        },
        {
          "output_type": "display_data",
          "data": {
            "image/png": "[encoded data removed]",
            "text/plain": [
              "<Figure size 432x288 with 1 Axes>"
            ]
          },
          "metadata": {
            "tags": []
          }
        }
      ]
    },
    {
      "cell_type": "code",
      "metadata": {
        "id": "_B9ydHj855-s",
        "colab_type": "code",
        "outputId": "6a3b4ccb-f2db-4e29-8d4f-9ff660b197e8",
        "colab": {
          "base_uri": "https://localhost:8080/",
          "height": 34
        }
      },
      "source": [
        "a = set(sub_text8_wo_gr[1]).intersection(set(sub_bron_wo_gr[1]))\n",
        "print('{0:0.3f} % of words in two graphs have the highest node degree'.format((len(a)/ len(sub_text8_wo_gr[1]+sub_bron_wo_gr[1]))*100))"
      ],
      "execution_count": 0,
      "outputs": [
        {
          "output_type": "stream",
          "text": [
            "33.667 % of words in two graphs have the highest node degree\n"
          ],
          "name": "stdout"
        }
      ]
    },
    {
      "cell_type": "code",
      "metadata": {
        "id": "3acxAwRWpAhd",
        "colab_type": "code",
        "colab": {}
      },
      "source": [
        "l = nx.betweenness_centrality(sub_bron_wo_gr[0])"
      ],
      "execution_count": 0,
      "outputs": []
    },
    {
      "cell_type": "code",
      "metadata": {
        "id": "z4bzc4TJvm4H",
        "colab_type": "code",
        "outputId": "41e9421d-79d5-4208-d6c3-71b5d03ba2da",
        "colab": {
          "base_uri": "https://localhost:8080/",
          "height": 1000
        }
      },
      "source": [
        "sot_l = sorted(l.items(), key = lambda x: x[1], reverse=True)\n",
        "sot_l[:100]"
      ],
      "execution_count": 0,
      "outputs": [
        {
          "output_type": "execute_result",
          "data": {
            "text/plain": [
              "[('without', 0.023365749457513938),\n",
              " ('however', 0.015986257193229877),\n",
              " ('during', 0.015242428258313864),\n",
              " ('every', 0.014523370648605633),\n",
              " ('until', 0.01213103146904911),\n",
              " ('american', 0.012004325935201213),\n",
              " ('against', 0.010639867132552851),\n",
              " ('again', 0.010055604603808289),\n",
              " ('upon', 0.009641684935297136),\n",
              " ('high', 0.009448572801774316),\n",
              " ('small', 0.009087352478593208),\n",
              " ('himself', 0.008704428885102818),\n",
              " ('better', 0.00829466369085395),\n",
              " ('came', 0.008048111876750237),\n",
              " ('general', 0.007679794255504836),\n",
              " ('within', 0.0076129852550842515),\n",
              " ('around', 0.00742750957278119),\n",
              " ('always', 0.00715860240272023),\n",
              " ('yet', 0.007122610173101187),\n",
              " ('d', 0.006987282671065862),\n",
              " ('today', 0.006915149845076069),\n",
              " ('once', 0.006853027528520926),\n",
              " ('toward', 0.00685160179668074),\n",
              " ('home', 0.0068147171620758845),\n",
              " ('several', 0.00675823518079074),\n",
              " ('whose', 0.006638854760283151),\n",
              " ('3', 0.006471523211918032),\n",
              " ('four', 0.0064027960044401),\n",
              " ('public', 0.006366549177668128),\n",
              " ('rather', 0.006285772152897806),\n",
              " ('often', 0.006121870247505614),\n",
              " ('does', 0.005941127344389401),\n",
              " ('mrs', 0.005902616590228253),\n",
              " ('though', 0.005888274577339229),\n",
              " ('thus', 0.005643092069865773),\n",
              " ('almost', 0.005459186120549259),\n",
              " ('water', 0.0054088177175180855),\n",
              " ('among', 0.005371171811864167),\n",
              " ('although', 0.005223230092829652),\n",
              " ('states', 0.005151903782881982),\n",
              " ('something', 0.005078415315483641),\n",
              " ('right', 0.0048733359558261885),\n",
              " ('less', 0.0048419304033403745),\n",
              " ('quite', 0.004741340033446454),\n",
              " ('away', 0.004677485906581333),\n",
              " ('school', 0.004600401200937911),\n",
              " ('place', 0.004556080889866123),\n",
              " ('few', 0.0045404429914092815),\n",
              " ('social', 0.004528451423960854),\n",
              " ('later', 0.004517580316203749),\n",
              " ('enough', 0.004502304813760277),\n",
              " ('perhaps', 0.004500733978856207),\n",
              " ('second', 0.0044708774710055495),\n",
              " ('next', 0.0042826737534785615),\n",
              " ('called', 0.004260695612941158),\n",
              " ('along', 0.004219893763037311),\n",
              " ('big', 0.004202694353068208),\n",
              " ('house', 0.004149700121171594),\n",
              " ('itself', 0.004102053880048066),\n",
              " ('special', 0.004075424369842012),\n",
              " ('program', 0.0040498013955898495),\n",
              " ('national', 0.0040443734270154425),\n",
              " ('present', 0.00402407822202971),\n",
              " ('above', 0.0039056261982159776),\n",
              " ('major', 0.003883976760761996),\n",
              " ('why', 0.003761623797704029),\n",
              " ('full', 0.003761022004625442),\n",
              " ('ever', 0.0037350600015336787),\n",
              " ('john', 0.0037118068876505527),\n",
              " ('really', 0.0037117888618615185),\n",
              " ('cannot', 0.0037101634420832323),\n",
              " ('different', 0.00369771554363798),\n",
              " ('service', 0.003692373661754581),\n",
              " ('large', 0.003651104563814683),\n",
              " ('open', 0.0036317776638452766),\n",
              " ('certain', 0.003597563667084713),\n",
              " ('nothing', 0.003590472954463837),\n",
              " ('nor', 0.003576078760682002),\n",
              " ('early', 0.0035734683708684768),\n",
              " ('let', 0.0034822230930004407),\n",
              " ('left', 0.003471427140378323),\n",
              " ('business', 0.003431683801207386),\n",
              " ('five', 0.003428775432466796),\n",
              " ('important', 0.003396971634688214),\n",
              " ('best', 0.003366843955557604),\n",
              " ('group', 0.0033411372078856125),\n",
              " ('m', 0.003335508699975636),\n",
              " ('political', 0.003316153280964613),\n",
              " ('took', 0.0032227602414460384),\n",
              " ('young', 0.0032168773496499374),\n",
              " ('4', 0.003203552152663625),\n",
              " ('probably', 0.0031959846847888834),\n",
              " ('used', 0.003153551932973598),\n",
              " ('either', 0.0031506641582216928),\n",
              " ('having', 0.0030863649003408295),\n",
              " ('already', 0.003071825991522713),\n",
              " ('company', 0.003046143944331763),\n",
              " ('got', 0.003042785403230753),\n",
              " ('white', 0.0030274274168744387),\n",
              " ('further', 0.0030052318581798715)]"
            ]
          },
          "metadata": {
            "tags": []
          },
          "execution_count": 128
        }
      ]
    },
    {
      "cell_type": "code",
      "metadata": {
        "id": "2xzu1Z-7xa1L",
        "colab_type": "code",
        "outputId": "b7da9a92-c993-420e-c9c6-939d12c06ed7",
        "colab": {
          "base_uri": "https://localhost:8080/",
          "height": 265
        }
      },
      "source": [
        ""
      ],
      "execution_count": 0,
      "outputs": [
        {
          "output_type": "display_data",
          "data": {
            "image/png": "[encoded data removed]",
            "text/plain": [
              "<Figure size 432x288 with 1 Axes>"
            ]
          },
          "metadata": {
            "tags": []
          }
        }
      ]
    },
    {
      "cell_type": "code",
      "metadata": {
        "id": "AvQxcLDizLmI",
        "colab_type": "code",
        "outputId": "add729c6-9101-456c-a38a-aa723c63b4a9",
        "colab": {
          "base_uri": "https://localhost:8080/",
          "height": 34
        }
      },
      "source": [
        "len(sort_nodes)"
      ],
      "execution_count": 0,
      "outputs": [
        {
          "output_type": "execute_result",
          "data": {
            "text/plain": [
              "2000"
            ]
          },
          "metadata": {
            "tags": []
          },
          "execution_count": 107
        }
      ]
    },
    {
      "cell_type": "code",
      "metadata": {
        "id": "qUlwbrhXrWN3",
        "colab_type": "code",
        "colab": {}
      },
      "source": [
        ""
      ],
      "execution_count": 0,
      "outputs": []
    },
    {
      "cell_type": "code",
      "metadata": {
        "id": "opEVZ4byrrfa",
        "colab_type": "code",
        "outputId": "4ffa2c16-0f35-49ec-b5d1-1d2ad1d6532b",
        "colab": {
          "base_uri": "https://localhost:8080/",
          "height": 34
        }
      },
      "source": [
        "len(sub_graph.nodes)"
      ],
      "execution_count": 0,
      "outputs": [
        {
          "output_type": "execute_result",
          "data": {
            "text/plain": [
              "2400"
            ]
          },
          "metadata": {
            "tags": []
          },
          "execution_count": 124
        }
      ]
    },
    {
      "cell_type": "code",
      "metadata": {
        "id": "ru9Sy4FEwny2",
        "colab_type": "code",
        "outputId": "b45f549e-09af-40e8-ecc8-5eb5172e5745",
        "colab": {
          "base_uri": "https://localhost:8080/",
          "height": 295
        }
      },
      "source": [
        "import collections\n",
        "import matplotlib.pyplot as plt\n",
        "import networkx as nx\n",
        "\n",
        "degree_sequence = sorted([d for n, d in dG.degree()], reverse=True)  # degree sequence\n",
        "\n",
        "degreeCount = collections.Counter(degree_sequence)\n",
        "deg, cnt = zip(*degreeCount.items())\n",
        "plt.plot(deg, cnt, color='b')\n",
        "\n",
        "plt.title(\"Degree Histogram\")\n",
        "plt.ylabel(\"Count\")\n",
        "plt.xlabel(\"Degree\")\n",
        "\n",
        "plt.show()"
      ],
      "execution_count": 0,
      "outputs": [
        {
          "output_type": "display_data",
          "data": {
            "image/png": "[encoded data removed]",
            "text/plain": [
              "<Figure size 432x288 with 1 Axes>"
            ]
          },
          "metadata": {
            "tags": []
          }
        }
      ]
    },
    {
      "cell_type": "code",
      "metadata": {
        "id": "KOLb9PkIz8ml",
        "colab_type": "code",
        "colab": {}
      },
      "source": [
        "def plot_degree_dist(G):\n",
        "    degrees = [G.degree(n) for n in G.nodes()]\n",
        "    plt.hist(degrees)\n",
        "    plt.show()\n",
        "\n",
        "plot_degree_dist(nx.gnp_random_graph(100, 0.5, directed=True))"
      ],
      "execution_count": 0,
      "outputs": []
    },
    {
      "cell_type": "code",
      "metadata": {
        "id": "Fjzt4rhg-Wze",
        "colab_type": "code",
        "colab": {}
      },
      "source": [
        "MODELS_DIR = 'models_sna/'\n",
        "!mkdir -p {MODELS_DIR}\n",
        "\n",
        "lr = 0.05\n",
        "dim = 100\n",
        "ws = 5\n",
        "epoch = 5\n",
        "minCount = 5\n",
        "neg = 5\n",
        "loss = 'ns'\n",
        "t = 1e-4\n",
        "\n",
        "from gensim.models import Word2Vec, KeyedVectors\n",
        "from gensim.models.word2vec import Text8Corpus\n",
        "\n",
        "# Same values as used for fastText training above\n",
        "params = {\n",
        "    'alpha': lr,\n",
        "    'size': dim,\n",
        "    'window': ws,\n",
        "    'iter': epoch,\n",
        "    'min_count': minCount,\n",
        "    'sample': t,\n",
        "    'sg': 1,\n",
        "    'hs': 0,\n",
        "    'negative': neg\n",
        "}\n",
        "\n",
        "def train_models(corpus_file, output_name):\n",
        "    output_file = '{:s}_ft'.format(output_name)\n",
        "    if not os.path.isfile(os.path.join(MODELS_DIR, '{:s}.vec'.format(output_file))):\n",
        "        print('Training fasttext on {:s} corpus..'.format(corpus_file))\n",
        "        %time !'fastText-0.9.1'/fasttext skipgram -input {corpus_file} -output {MODELS_DIR+output_file}  -lr {lr} -dim {dim} -ws {ws} -epoch {epoch} -minCount {minCount} -neg {neg} -loss {loss} -t {t}\n",
        "    else:\n",
        "        print('\\nUsing existing model file {:s}.vec'.format(output_file))\n",
        "        \n",
        "    output_file = '{:s}_gs'.format(output_name)\n",
        "    if not os.path.isfile(os.path.join(MODELS_DIR, '{:s}.vec'.format(output_file))):\n",
        "        print('\\nTraining word2vec on {:s} corpus..'.format(corpus_file))\n",
        "        \n",
        "        # Text8Corpus class for reading space-separated words file\n",
        "        %time gs_model = Word2Vec(Text8Corpus(corpus_file), **params); gs_model\n",
        "        # Direct local variable lookup doesn't work properly with magic statements (%time)\n",
        "        locals()['gs_model'].wv.save_word2vec_format(os.path.join(MODELS_DIR, '{:s}.vec'.format(output_file)))\n",
        "        print('\\nSaved gensim model as {:s}.vec'.format(output_file))\n",
        "    else:\n",
        "        print('\\nUsing existing model file {:s}.vec'.format(output_file))\n",
        "    \n",
        "\n",
        "evaluation_data = {}"
      ],
      "execution_count": 0,
      "outputs": []
    },
    {
      "cell_type": "markdown",
      "metadata": {
        "id": "A8BeYyKblrOh",
        "colab_type": "text"
      },
      "source": [
        "Train on Wiki"
      ]
    },
    {
      "cell_type": "code",
      "metadata": {
        "id": "pdZFPu1S-Wzv",
        "colab_type": "code",
        "outputId": "b2b1fb89-abf4-4879-bbc6-d92dee11d66c",
        "colab": {
          "base_uri": "https://localhost:8080/",
          "height": 85
        }
      },
      "source": [
        "train_models(corpus_file='text8', output_name='text8')"
      ],
      "execution_count": 0,
      "outputs": [
        {
          "output_type": "stream",
          "text": [
            "\n",
            "Using existing model file text8_ft.vec\n",
            "\n",
            "Using existing model file text8_gs.vec\n"
          ],
          "name": "stdout"
        }
      ]
    },
    {
      "cell_type": "markdown",
      "metadata": {
        "id": "dEgEIgy3lwKc",
        "colab_type": "text"
      },
      "source": [
        "Train on Wiki without words with highest degree"
      ]
    },
    {
      "cell_type": "code",
      "metadata": {
        "id": "FiILp7c3a7Bd",
        "colab_type": "code",
        "outputId": "703eaa1e-56da-4cbc-af9c-9752a22d1e2e",
        "colab": {
          "base_uri": "https://localhost:8080/",
          "height": 1000
        }
      },
      "source": [
        "train_models(corpus_file='text8_cl', output_name='text8_cl')"
      ],
      "execution_count": 0,
      "outputs": [
        {
          "output_type": "stream",
          "text": [
            "Training fasttext on text8_cl corpus..\n",
            "Read 7M words\n",
            "Number of words:  88764\n",
            "Number of labels: 0\n",
            "Progress: 100.0% words/sec/thread:    4858 lr:  0.000000 loss:  1.800021 ETA:   0h 0m\n"
          ],
          "name": "stdout"
        },
        {
          "output_type": "stream",
          "text": [
            "2019-12-24 16:10:00,971 : INFO : collecting all words and their counts\n",
            "/usr/local/lib/python3.6/dist-packages/smart_open/smart_open_lib.py:402: UserWarning: This function is deprecated, use smart_open.open instead. See the migration notes for details: https://github.com/RaRe-Technologies/smart_open/blob/master/README.rst#migrating-to-the-new-open-function\n",
            "  'See the migration notes for details: %s' % _MIGRATION_NOTES_URL\n",
            "2019-12-24 16:10:00,988 : INFO : PROGRESS: at sentence #0, processed 0 words, keeping 0 word types\n"
          ],
          "name": "stderr"
        },
        {
          "output_type": "stream",
          "text": [
            "CPU times: user 7.09 s, sys: 1.41 s, total: 8.5 s\n",
            "Wall time: 10min 56s\n",
            "\n",
            "Training word2vec on text8_cl corpus..\n"
          ],
          "name": "stdout"
        },
        {
          "output_type": "stream",
          "text": [
            "2019-12-24 16:10:06,789 : INFO : collected 2246853 word types from a corpus of 7412797 raw words and 742 sentences\n",
            "2019-12-24 16:10:06,790 : INFO : Loading a fresh vocabulary\n",
            "2019-12-24 16:10:07,796 : INFO : effective_min_count=5 retains 88764 unique words (3% of original 2246853, drops 2158089)\n",
            "2019-12-24 16:10:07,797 : INFO : effective_min_count=5 leaves 4938322 word corpus (66% of original 7412797, drops 2474475)\n",
            "2019-12-24 16:10:08,115 : INFO : deleting the raw counts dictionary of 2246853 items\n",
            "2019-12-24 16:10:08,202 : INFO : sample=0.0001 downsamples 501 most-common words\n",
            "2019-12-24 16:10:08,205 : INFO : downsampling leaves estimated 4056572 word corpus (82.1% of prior 4938322)\n",
            "2019-12-24 16:10:08,620 : INFO : estimated required memory for 88764 words and 100 dimensions: 115393200 bytes\n",
            "2019-12-24 16:10:08,622 : INFO : resetting layer weights\n",
            "2019-12-24 16:10:26,780 : INFO : training model with 3 workers on 88764 vocabulary and 100 features, using sg=1 hs=0 sample=0.0001 negative=5 window=5\n",
            "2019-12-24 16:10:27,799 : INFO : EPOCH 1 - PROGRESS: at 2.83% examples, 111038 words/s, in_qsize 5, out_qsize 0\n",
            "2019-12-24 16:10:28,863 : INFO : EPOCH 1 - PROGRESS: at 5.80% examples, 111198 words/s, in_qsize 4, out_qsize 1\n",
            "2019-12-24 16:10:29,910 : INFO : EPOCH 1 - PROGRESS: at 8.89% examples, 113775 words/s, in_qsize 5, out_qsize 0\n",
            "2019-12-24 16:10:30,937 : INFO : EPOCH 1 - PROGRESS: at 11.99% examples, 115616 words/s, in_qsize 5, out_qsize 0\n",
            "2019-12-24 16:10:31,948 : INFO : EPOCH 1 - PROGRESS: at 14.82% examples, 115564 words/s, in_qsize 5, out_qsize 0\n",
            "2019-12-24 16:10:33,011 : INFO : EPOCH 1 - PROGRESS: at 17.92% examples, 115821 words/s, in_qsize 5, out_qsize 0\n",
            "2019-12-24 16:10:34,100 : INFO : EPOCH 1 - PROGRESS: at 21.02% examples, 115524 words/s, in_qsize 5, out_qsize 0\n",
            "2019-12-24 16:10:35,146 : INFO : EPOCH 1 - PROGRESS: at 24.12% examples, 116406 words/s, in_qsize 5, out_qsize 0\n",
            "2019-12-24 16:10:36,154 : INFO : EPOCH 1 - PROGRESS: at 26.95% examples, 116252 words/s, in_qsize 5, out_qsize 0\n",
            "2019-12-24 16:10:37,172 : INFO : EPOCH 1 - PROGRESS: at 29.92% examples, 116571 words/s, in_qsize 5, out_qsize 0\n",
            "2019-12-24 16:10:38,220 : INFO : EPOCH 1 - PROGRESS: at 32.88% examples, 116463 words/s, in_qsize 5, out_qsize 0\n",
            "2019-12-24 16:10:39,302 : INFO : EPOCH 1 - PROGRESS: at 35.98% examples, 116273 words/s, in_qsize 5, out_qsize 0\n",
            "2019-12-24 16:10:40,356 : INFO : EPOCH 1 - PROGRESS: at 38.95% examples, 116202 words/s, in_qsize 5, out_qsize 0\n",
            "2019-12-24 16:10:41,392 : INFO : EPOCH 1 - PROGRESS: at 41.91% examples, 116222 words/s, in_qsize 5, out_qsize 0\n",
            "2019-12-24 16:10:42,411 : INFO : EPOCH 1 - PROGRESS: at 44.74% examples, 115968 words/s, in_qsize 4, out_qsize 1\n",
            "2019-12-24 16:10:43,417 : INFO : EPOCH 1 - PROGRESS: at 47.84% examples, 116367 words/s, in_qsize 5, out_qsize 0\n",
            "2019-12-24 16:10:44,487 : INFO : EPOCH 1 - PROGRESS: at 50.81% examples, 116235 words/s, in_qsize 5, out_qsize 0\n",
            "2019-12-24 16:10:45,504 : INFO : EPOCH 1 - PROGRESS: at 53.64% examples, 116380 words/s, in_qsize 5, out_qsize 0\n",
            "2019-12-24 16:10:46,515 : INFO : EPOCH 1 - PROGRESS: at 56.47% examples, 116213 words/s, in_qsize 4, out_qsize 1\n",
            "2019-12-24 16:10:47,524 : INFO : EPOCH 1 - PROGRESS: at 59.43% examples, 116317 words/s, in_qsize 5, out_qsize 0\n",
            "2019-12-24 16:10:48,597 : INFO : EPOCH 1 - PROGRESS: at 62.53% examples, 116335 words/s, in_qsize 5, out_qsize 0\n",
            "2019-12-24 16:10:49,613 : INFO : EPOCH 1 - PROGRESS: at 65.63% examples, 116593 words/s, in_qsize 5, out_qsize 0\n",
            "2019-12-24 16:10:50,643 : INFO : EPOCH 1 - PROGRESS: at 68.60% examples, 116487 words/s, in_qsize 5, out_qsize 0\n",
            "2019-12-24 16:10:51,687 : INFO : EPOCH 1 - PROGRESS: at 71.56% examples, 116445 words/s, in_qsize 5, out_qsize 0\n",
            "2019-12-24 16:10:52,687 : INFO : EPOCH 1 - PROGRESS: at 74.53% examples, 116537 words/s, in_qsize 5, out_qsize 0\n",
            "2019-12-24 16:10:53,705 : INFO : EPOCH 1 - PROGRESS: at 77.22% examples, 116400 words/s, in_qsize 5, out_qsize 0\n",
            "2019-12-24 16:10:54,711 : INFO : EPOCH 1 - PROGRESS: at 80.19% examples, 116465 words/s, in_qsize 5, out_qsize 0\n",
            "2019-12-24 16:10:55,749 : INFO : EPOCH 1 - PROGRESS: at 83.15% examples, 116392 words/s, in_qsize 5, out_qsize 0\n",
            "2019-12-24 16:10:56,753 : INFO : EPOCH 1 - PROGRESS: at 86.12% examples, 116510 words/s, in_qsize 5, out_qsize 0\n",
            "2019-12-24 16:10:57,770 : INFO : EPOCH 1 - PROGRESS: at 88.95% examples, 116415 words/s, in_qsize 5, out_qsize 0\n",
            "2019-12-24 16:10:58,774 : INFO : EPOCH 1 - PROGRESS: at 91.78% examples, 116416 words/s, in_qsize 5, out_qsize 0\n",
            "2019-12-24 16:10:59,797 : INFO : EPOCH 1 - PROGRESS: at 94.61% examples, 116345 words/s, in_qsize 5, out_qsize 0\n",
            "2019-12-24 16:11:00,880 : INFO : EPOCH 1 - PROGRESS: at 97.71% examples, 116380 words/s, in_qsize 5, out_qsize 0\n",
            "2019-12-24 16:11:01,555 : INFO : worker thread finished; awaiting finish of 2 more threads\n",
            "2019-12-24 16:11:01,560 : INFO : worker thread finished; awaiting finish of 1 more threads\n",
            "2019-12-24 16:11:01,573 : INFO : worker thread finished; awaiting finish of 0 more threads\n",
            "2019-12-24 16:11:01,574 : INFO : EPOCH - 1 : training on 7412797 raw words (4056836 effective words) took 34.8s, 116607 effective words/s\n",
            "2019-12-24 16:11:02,578 : INFO : EPOCH 2 - PROGRESS: at 2.56% examples, 102279 words/s, in_qsize 5, out_qsize 0\n",
            "2019-12-24 16:11:03,595 : INFO : EPOCH 2 - PROGRESS: at 5.39% examples, 106768 words/s, in_qsize 5, out_qsize 0\n",
            "2019-12-24 16:11:04,672 : INFO : EPOCH 2 - PROGRESS: at 8.36% examples, 107852 words/s, in_qsize 5, out_qsize 0\n",
            "2019-12-24 16:11:05,700 : INFO : EPOCH 2 - PROGRESS: at 11.32% examples, 109879 words/s, in_qsize 5, out_qsize 0\n",
            "2019-12-24 16:11:06,732 : INFO : EPOCH 2 - PROGRESS: at 14.15% examples, 110298 words/s, in_qsize 5, out_qsize 0\n",
            "2019-12-24 16:11:07,738 : INFO : EPOCH 2 - PROGRESS: at 16.98% examples, 110846 words/s, in_qsize 5, out_qsize 0\n",
            "2019-12-24 16:11:08,753 : INFO : EPOCH 2 - PROGRESS: at 19.81% examples, 110958 words/s, in_qsize 5, out_qsize 0\n",
            "2019-12-24 16:11:09,785 : INFO : EPOCH 2 - PROGRESS: at 22.64% examples, 110988 words/s, in_qsize 5, out_qsize 0\n",
            "2019-12-24 16:11:10,793 : INFO : EPOCH 2 - PROGRESS: at 25.47% examples, 111612 words/s, in_qsize 5, out_qsize 0\n",
            "2019-12-24 16:11:11,798 : INFO : EPOCH 2 - PROGRESS: at 28.30% examples, 111849 words/s, in_qsize 5, out_qsize 0\n",
            "2019-12-24 16:11:12,848 : INFO : EPOCH 2 - PROGRESS: at 31.27% examples, 112269 words/s, in_qsize 5, out_qsize 0\n",
            "2019-12-24 16:11:13,908 : INFO : EPOCH 2 - PROGRESS: at 34.23% examples, 112251 words/s, in_qsize 5, out_qsize 0\n",
            "2019-12-24 16:11:14,940 : INFO : EPOCH 2 - PROGRESS: at 37.20% examples, 112614 words/s, in_qsize 5, out_qsize 0\n",
            "2019-12-24 16:11:15,944 : INFO : EPOCH 2 - PROGRESS: at 40.03% examples, 112794 words/s, in_qsize 5, out_qsize 0\n",
            "2019-12-24 16:11:17,031 : INFO : EPOCH 2 - PROGRESS: at 43.13% examples, 112993 words/s, in_qsize 5, out_qsize 0\n",
            "2019-12-24 16:11:18,046 : INFO : EPOCH 2 - PROGRESS: at 46.09% examples, 113256 words/s, in_qsize 5, out_qsize 0\n",
            "2019-12-24 16:11:19,072 : INFO : EPOCH 2 - PROGRESS: at 49.06% examples, 113438 words/s, in_qsize 5, out_qsize 0\n",
            "2019-12-24 16:11:20,095 : INFO : EPOCH 2 - PROGRESS: at 51.89% examples, 113504 words/s, in_qsize 5, out_qsize 0\n",
            "2019-12-24 16:11:21,122 : INFO : EPOCH 2 - PROGRESS: at 54.72% examples, 113685 words/s, in_qsize 5, out_qsize 0\n",
            "2019-12-24 16:11:22,195 : INFO : EPOCH 2 - PROGRESS: at 57.82% examples, 113868 words/s, in_qsize 5, out_qsize 0\n",
            "2019-12-24 16:11:23,256 : INFO : EPOCH 2 - PROGRESS: at 60.92% examples, 114001 words/s, in_qsize 5, out_qsize 0\n",
            "2019-12-24 16:11:24,286 : INFO : EPOCH 2 - PROGRESS: at 63.88% examples, 114092 words/s, in_qsize 5, out_qsize 0\n",
            "2019-12-24 16:11:25,339 : INFO : EPOCH 2 - PROGRESS: at 66.85% examples, 114036 words/s, in_qsize 5, out_qsize 0\n",
            "2019-12-24 16:11:26,355 : INFO : EPOCH 2 - PROGRESS: at 69.95% examples, 114377 words/s, in_qsize 5, out_qsize 0\n",
            "2019-12-24 16:11:27,429 : INFO : EPOCH 2 - PROGRESS: at 72.91% examples, 114260 words/s, in_qsize 5, out_qsize 0\n",
            "2019-12-24 16:11:28,446 : INFO : EPOCH 2 - PROGRESS: at 75.74% examples, 114315 words/s, in_qsize 5, out_qsize 0\n",
            "2019-12-24 16:11:29,507 : INFO : EPOCH 2 - PROGRESS: at 78.71% examples, 114322 words/s, in_qsize 5, out_qsize 0\n",
            "2019-12-24 16:11:30,531 : INFO : EPOCH 2 - PROGRESS: at 81.67% examples, 114384 words/s, in_qsize 5, out_qsize 0\n",
            "2019-12-24 16:11:31,615 : INFO : EPOCH 2 - PROGRESS: at 84.77% examples, 114433 words/s, in_qsize 4, out_qsize 1\n",
            "2019-12-24 16:11:32,628 : INFO : EPOCH 2 - PROGRESS: at 87.60% examples, 114407 words/s, in_qsize 5, out_qsize 0\n",
            "2019-12-24 16:11:33,646 : INFO : EPOCH 2 - PROGRESS: at 90.57% examples, 114555 words/s, in_qsize 5, out_qsize 0\n",
            "2019-12-24 16:11:34,647 : INFO : EPOCH 2 - PROGRESS: at 93.13% examples, 114311 words/s, in_qsize 5, out_qsize 0\n",
            "2019-12-24 16:11:35,666 : INFO : EPOCH 2 - PROGRESS: at 96.09% examples, 114533 words/s, in_qsize 6, out_qsize 0\n",
            "2019-12-24 16:11:36,692 : INFO : EPOCH 2 - PROGRESS: at 99.06% examples, 114558 words/s, in_qsize 5, out_qsize 0\n",
            "2019-12-24 16:11:36,923 : INFO : worker thread finished; awaiting finish of 2 more threads\n",
            "2019-12-24 16:11:36,931 : INFO : worker thread finished; awaiting finish of 1 more threads\n",
            "2019-12-24 16:11:36,941 : INFO : worker thread finished; awaiting finish of 0 more threads\n",
            "2019-12-24 16:11:36,942 : INFO : EPOCH - 2 : training on 7412797 raw words (4057084 effective words) took 35.4s, 114719 effective words/s\n",
            "2019-12-24 16:11:37,964 : INFO : EPOCH 3 - PROGRESS: at 2.70% examples, 105883 words/s, in_qsize 5, out_qsize 0\n",
            "2019-12-24 16:11:38,965 : INFO : EPOCH 3 - PROGRESS: at 5.66% examples, 112206 words/s, in_qsize 5, out_qsize 0\n",
            "2019-12-24 16:11:39,971 : INFO : EPOCH 3 - PROGRESS: at 8.49% examples, 112096 words/s, in_qsize 5, out_qsize 0\n",
            "2019-12-24 16:11:41,017 : INFO : EPOCH 3 - PROGRESS: at 11.32% examples, 111303 words/s, in_qsize 5, out_qsize 0\n",
            "2019-12-24 16:11:42,033 : INFO : EPOCH 3 - PROGRESS: at 14.29% examples, 112873 words/s, in_qsize 5, out_qsize 0\n",
            "2019-12-24 16:11:43,058 : INFO : EPOCH 3 - PROGRESS: at 17.25% examples, 113491 words/s, in_qsize 5, out_qsize 0\n",
            "2019-12-24 16:11:44,063 : INFO : EPOCH 3 - PROGRESS: at 20.08% examples, 113357 words/s, in_qsize 4, out_qsize 1\n",
            "2019-12-24 16:11:45,107 : INFO : EPOCH 3 - PROGRESS: at 23.05% examples, 113614 words/s, in_qsize 5, out_qsize 0\n",
            "2019-12-24 16:11:46,110 : INFO : EPOCH 3 - PROGRESS: at 25.74% examples, 113453 words/s, in_qsize 5, out_qsize 0\n",
            "2019-12-24 16:11:47,135 : INFO : EPOCH 3 - PROGRESS: at 28.71% examples, 113787 words/s, in_qsize 5, out_qsize 0\n",
            "2019-12-24 16:11:48,184 : INFO : EPOCH 3 - PROGRESS: at 31.67% examples, 114075 words/s, in_qsize 5, out_qsize 0\n",
            "2019-12-24 16:11:49,215 : INFO : EPOCH 3 - PROGRESS: at 34.64% examples, 114179 words/s, in_qsize 5, out_qsize 0\n",
            "2019-12-24 16:11:50,234 : INFO : EPOCH 3 - PROGRESS: at 37.60% examples, 114509 words/s, in_qsize 5, out_qsize 0\n",
            "2019-12-24 16:11:51,283 : INFO : EPOCH 3 - PROGRESS: at 40.43% examples, 114220 words/s, in_qsize 5, out_qsize 0\n",
            "2019-12-24 16:11:52,298 : INFO : EPOCH 3 - PROGRESS: at 43.40% examples, 114531 words/s, in_qsize 5, out_qsize 0\n",
            "2019-12-24 16:11:53,355 : INFO : EPOCH 3 - PROGRESS: at 46.36% examples, 114373 words/s, in_qsize 6, out_qsize 0\n",
            "2019-12-24 16:11:54,381 : INFO : EPOCH 3 - PROGRESS: at 49.19% examples, 114194 words/s, in_qsize 5, out_qsize 0\n",
            "2019-12-24 16:11:55,408 : INFO : EPOCH 3 - PROGRESS: at 52.02% examples, 114196 words/s, in_qsize 5, out_qsize 0\n",
            "2019-12-24 16:11:56,413 : INFO : EPOCH 3 - PROGRESS: at 54.72% examples, 114159 words/s, in_qsize 5, out_qsize 0\n",
            "2019-12-24 16:11:57,432 : INFO : EPOCH 3 - PROGRESS: at 57.55% examples, 114117 words/s, in_qsize 5, out_qsize 0\n",
            "2019-12-24 16:11:58,444 : INFO : EPOCH 3 - PROGRESS: at 60.51% examples, 114241 words/s, in_qsize 5, out_qsize 0\n",
            "2019-12-24 16:11:59,491 : INFO : EPOCH 3 - PROGRESS: at 63.34% examples, 114023 words/s, in_qsize 5, out_qsize 0\n",
            "2019-12-24 16:12:00,509 : INFO : EPOCH 3 - PROGRESS: at 66.31% examples, 114133 words/s, in_qsize 5, out_qsize 0\n",
            "2019-12-24 16:12:01,582 : INFO : EPOCH 3 - PROGRESS: at 69.27% examples, 113938 words/s, in_qsize 5, out_qsize 0\n",
            "2019-12-24 16:12:02,593 : INFO : EPOCH 3 - PROGRESS: at 72.10% examples, 113923 words/s, in_qsize 5, out_qsize 0\n",
            "2019-12-24 16:12:03,668 : INFO : EPOCH 3 - PROGRESS: at 75.07% examples, 113882 words/s, in_qsize 5, out_qsize 0\n",
            "2019-12-24 16:12:04,670 : INFO : EPOCH 3 - PROGRESS: at 77.76% examples, 113851 words/s, in_qsize 5, out_qsize 0\n",
            "2019-12-24 16:12:05,706 : INFO : EPOCH 3 - PROGRESS: at 80.73% examples, 113867 words/s, in_qsize 5, out_qsize 0\n",
            "2019-12-24 16:12:06,729 : INFO : EPOCH 3 - PROGRESS: at 83.69% examples, 113931 words/s, in_qsize 5, out_qsize 0\n",
            "2019-12-24 16:12:07,739 : INFO : EPOCH 3 - PROGRESS: at 86.52% examples, 113958 words/s, in_qsize 5, out_qsize 0\n",
            "2019-12-24 16:12:08,773 : INFO : EPOCH 3 - PROGRESS: at 88.95% examples, 113353 words/s, in_qsize 5, out_qsize 0\n",
            "2019-12-24 16:12:09,777 : INFO : EPOCH 3 - PROGRESS: at 91.24% examples, 112768 words/s, in_qsize 6, out_qsize 0\n",
            "2019-12-24 16:12:10,809 : INFO : EPOCH 3 - PROGRESS: at 94.07% examples, 112795 words/s, in_qsize 5, out_qsize 0\n",
            "2019-12-24 16:12:11,882 : INFO : EPOCH 3 - PROGRESS: at 97.04% examples, 112820 words/s, in_qsize 5, out_qsize 0\n",
            "2019-12-24 16:12:12,769 : INFO : worker thread finished; awaiting finish of 2 more threads\n",
            "2019-12-24 16:12:12,779 : INFO : worker thread finished; awaiting finish of 1 more threads\n",
            "2019-12-24 16:12:12,819 : INFO : worker thread finished; awaiting finish of 0 more threads\n",
            "2019-12-24 16:12:12,822 : INFO : EPOCH - 3 : training on 7412797 raw words (4056869 effective words) took 35.9s, 113083 effective words/s\n",
            "2019-12-24 16:12:13,851 : INFO : EPOCH 4 - PROGRESS: at 2.70% examples, 105194 words/s, in_qsize 5, out_qsize 0\n",
            "2019-12-24 16:12:14,877 : INFO : EPOCH 4 - PROGRESS: at 5.66% examples, 110181 words/s, in_qsize 5, out_qsize 0\n",
            "2019-12-24 16:12:15,923 : INFO : EPOCH 4 - PROGRESS: at 8.76% examples, 113056 words/s, in_qsize 5, out_qsize 0\n",
            "2019-12-24 16:12:16,958 : INFO : EPOCH 4 - PROGRESS: at 11.86% examples, 114895 words/s, in_qsize 5, out_qsize 0\n",
            "2019-12-24 16:12:18,014 : INFO : EPOCH 4 - PROGRESS: at 14.82% examples, 114979 words/s, in_qsize 5, out_qsize 0\n",
            "2019-12-24 16:12:19,016 : INFO : EPOCH 4 - PROGRESS: at 17.65% examples, 114661 words/s, in_qsize 5, out_qsize 0\n",
            "2019-12-24 16:12:20,064 : INFO : EPOCH 4 - PROGRESS: at 20.75% examples, 115227 words/s, in_qsize 5, out_qsize 0\n",
            "2019-12-24 16:12:21,068 : INFO : EPOCH 4 - PROGRESS: at 23.58% examples, 115237 words/s, in_qsize 5, out_qsize 0\n",
            "2019-12-24 16:12:22,079 : INFO : EPOCH 4 - PROGRESS: at 26.42% examples, 115307 words/s, in_qsize 4, out_qsize 1\n",
            "2019-12-24 16:12:23,084 : INFO : EPOCH 4 - PROGRESS: at 29.38% examples, 115850 words/s, in_qsize 5, out_qsize 0\n",
            "2019-12-24 16:12:24,148 : INFO : EPOCH 4 - PROGRESS: at 32.21% examples, 115165 words/s, in_qsize 5, out_qsize 0\n",
            "2019-12-24 16:12:25,157 : INFO : EPOCH 4 - PROGRESS: at 35.18% examples, 115314 words/s, in_qsize 5, out_qsize 0\n",
            "2019-12-24 16:12:26,162 : INFO : EPOCH 4 - PROGRESS: at 38.01% examples, 115314 words/s, in_qsize 5, out_qsize 0\n",
            "2019-12-24 16:12:27,248 : INFO : EPOCH 4 - PROGRESS: at 40.97% examples, 115033 words/s, in_qsize 4, out_qsize 1\n",
            "2019-12-24 16:12:28,306 : INFO : EPOCH 4 - PROGRESS: at 43.94% examples, 114920 words/s, in_qsize 3, out_qsize 2\n",
            "2019-12-24 16:12:29,322 : INFO : EPOCH 4 - PROGRESS: at 46.90% examples, 115033 words/s, in_qsize 5, out_qsize 0\n",
            "2019-12-24 16:12:30,353 : INFO : EPOCH 4 - PROGRESS: at 49.87% examples, 115170 words/s, in_qsize 5, out_qsize 0\n",
            "2019-12-24 16:12:31,382 : INFO : EPOCH 4 - PROGRESS: at 52.70% examples, 115061 words/s, in_qsize 5, out_qsize 0\n",
            "2019-12-24 16:12:32,417 : INFO : EPOCH 4 - PROGRESS: at 55.53% examples, 115065 words/s, in_qsize 4, out_qsize 1\n",
            "2019-12-24 16:12:33,424 : INFO : EPOCH 4 - PROGRESS: at 58.49% examples, 115251 words/s, in_qsize 5, out_qsize 0\n",
            "2019-12-24 16:12:34,477 : INFO : EPOCH 4 - PROGRESS: at 61.46% examples, 115144 words/s, in_qsize 5, out_qsize 0\n",
            "2019-12-24 16:12:35,531 : INFO : EPOCH 4 - PROGRESS: at 64.42% examples, 115078 words/s, in_qsize 5, out_qsize 0\n",
            "2019-12-24 16:12:36,542 : INFO : EPOCH 4 - PROGRESS: at 67.25% examples, 114930 words/s, in_qsize 5, out_qsize 0\n",
            "2019-12-24 16:12:37,557 : INFO : EPOCH 4 - PROGRESS: at 70.08% examples, 114817 words/s, in_qsize 6, out_qsize 0\n",
            "2019-12-24 16:12:38,577 : INFO : EPOCH 4 - PROGRESS: at 72.91% examples, 114690 words/s, in_qsize 5, out_qsize 0\n",
            "2019-12-24 16:12:39,594 : INFO : EPOCH 4 - PROGRESS: at 75.74% examples, 114736 words/s, in_qsize 5, out_qsize 1\n",
            "2019-12-24 16:12:40,606 : INFO : EPOCH 4 - PROGRESS: at 78.57% examples, 114740 words/s, in_qsize 5, out_qsize 0\n",
            "2019-12-24 16:12:41,615 : INFO : EPOCH 4 - PROGRESS: at 81.54% examples, 114833 words/s, in_qsize 5, out_qsize 0\n",
            "2019-12-24 16:12:42,698 : INFO : EPOCH 4 - PROGRESS: at 84.50% examples, 114685 words/s, in_qsize 5, out_qsize 0\n",
            "2019-12-24 16:12:43,716 : INFO : EPOCH 4 - PROGRESS: at 87.47% examples, 114802 words/s, in_qsize 5, out_qsize 0\n",
            "2019-12-24 16:12:44,789 : INFO : EPOCH 4 - PROGRESS: at 90.43% examples, 114740 words/s, in_qsize 5, out_qsize 0\n",
            "2019-12-24 16:12:45,797 : INFO : EPOCH 4 - PROGRESS: at 93.26% examples, 114797 words/s, in_qsize 5, out_qsize 0\n",
            "2019-12-24 16:12:46,804 : INFO : EPOCH 4 - PROGRESS: at 96.23% examples, 114999 words/s, in_qsize 5, out_qsize 0\n",
            "2019-12-24 16:12:47,837 : INFO : EPOCH 4 - PROGRESS: at 98.92% examples, 114728 words/s, in_qsize 5, out_qsize 0\n",
            "2019-12-24 16:12:48,062 : INFO : worker thread finished; awaiting finish of 2 more threads\n",
            "2019-12-24 16:12:48,069 : INFO : worker thread finished; awaiting finish of 1 more threads\n",
            "2019-12-24 16:12:48,120 : INFO : worker thread finished; awaiting finish of 0 more threads\n",
            "2019-12-24 16:12:48,121 : INFO : EPOCH - 4 : training on 7412797 raw words (4056468 effective words) took 35.3s, 114929 effective words/s\n",
            "2019-12-24 16:12:49,163 : INFO : EPOCH 5 - PROGRESS: at 2.83% examples, 108827 words/s, in_qsize 5, out_qsize 0\n",
            "2019-12-24 16:12:50,177 : INFO : EPOCH 5 - PROGRESS: at 5.66% examples, 110391 words/s, in_qsize 5, out_qsize 0\n",
            "2019-12-24 16:12:51,199 : INFO : EPOCH 5 - PROGRESS: at 8.63% examples, 112163 words/s, in_qsize 5, out_qsize 0\n",
            "2019-12-24 16:12:52,214 : INFO : EPOCH 5 - PROGRESS: at 11.59% examples, 113454 words/s, in_qsize 6, out_qsize 0\n",
            "2019-12-24 16:12:53,240 : INFO : EPOCH 5 - PROGRESS: at 14.42% examples, 113446 words/s, in_qsize 5, out_qsize 0\n",
            "2019-12-24 16:12:54,289 : INFO : EPOCH 5 - PROGRESS: at 17.52% examples, 114332 words/s, in_qsize 5, out_qsize 0\n",
            "2019-12-24 16:12:55,335 : INFO : EPOCH 5 - PROGRESS: at 20.49% examples, 114202 words/s, in_qsize 5, out_qsize 0\n",
            "2019-12-24 16:12:56,352 : INFO : EPOCH 5 - PROGRESS: at 23.32% examples, 114117 words/s, in_qsize 5, out_qsize 0\n",
            "2019-12-24 16:12:57,405 : INFO : EPOCH 5 - PROGRESS: at 26.28% examples, 114396 words/s, in_qsize 5, out_qsize 0\n",
            "2019-12-24 16:12:58,492 : INFO : EPOCH 5 - PROGRESS: at 29.38% examples, 114463 words/s, in_qsize 5, out_qsize 0\n",
            "2019-12-24 16:12:59,507 : INFO : EPOCH 5 - PROGRESS: at 32.21% examples, 114528 words/s, in_qsize 5, out_qsize 0\n",
            "2019-12-24 16:13:00,522 : INFO : EPOCH 5 - PROGRESS: at 35.04% examples, 114266 words/s, in_qsize 5, out_qsize 0\n",
            "2019-12-24 16:13:01,552 : INFO : EPOCH 5 - PROGRESS: at 38.01% examples, 114512 words/s, in_qsize 6, out_qsize 0\n",
            "2019-12-24 16:13:02,604 : INFO : EPOCH 5 - PROGRESS: at 40.84% examples, 114200 words/s, in_qsize 5, out_qsize 0\n",
            "2019-12-24 16:13:03,635 : INFO : EPOCH 5 - PROGRESS: at 43.67% examples, 114009 words/s, in_qsize 5, out_qsize 0\n",
            "2019-12-24 16:13:04,647 : INFO : EPOCH 5 - PROGRESS: at 46.63% examples, 114194 words/s, in_qsize 5, out_qsize 0\n",
            "2019-12-24 16:13:05,658 : INFO : EPOCH 5 - PROGRESS: at 49.46% examples, 114173 words/s, in_qsize 5, out_qsize 0\n",
            "2019-12-24 16:13:06,753 : INFO : EPOCH 5 - PROGRESS: at 52.43% examples, 114022 words/s, in_qsize 5, out_qsize 0\n",
            "2019-12-24 16:13:07,771 : INFO : EPOCH 5 - PROGRESS: at 55.26% examples, 114196 words/s, in_qsize 5, out_qsize 0\n",
            "2019-12-24 16:13:08,832 : INFO : EPOCH 5 - PROGRESS: at 58.22% examples, 114151 words/s, in_qsize 6, out_qsize 0\n",
            "2019-12-24 16:13:09,838 : INFO : EPOCH 5 - PROGRESS: at 61.19% examples, 114340 words/s, in_qsize 5, out_qsize 0\n",
            "2019-12-24 16:13:10,854 : INFO : EPOCH 5 - PROGRESS: at 63.88% examples, 114003 words/s, in_qsize 5, out_qsize 0\n",
            "2019-12-24 16:13:11,906 : INFO : EPOCH 5 - PROGRESS: at 66.85% examples, 113954 words/s, in_qsize 5, out_qsize 0\n",
            "2019-12-24 16:13:12,942 : INFO : EPOCH 5 - PROGRESS: at 69.81% examples, 113984 words/s, in_qsize 5, out_qsize 0\n",
            "2019-12-24 16:13:13,981 : INFO : EPOCH 5 - PROGRESS: at 72.78% examples, 114025 words/s, in_qsize 5, out_qsize 0\n",
            "2019-12-24 16:13:15,004 : INFO : EPOCH 5 - PROGRESS: at 75.74% examples, 114273 words/s, in_qsize 5, out_qsize 0\n",
            "2019-12-24 16:13:16,036 : INFO : EPOCH 5 - PROGRESS: at 78.57% examples, 114209 words/s, in_qsize 5, out_qsize 0\n",
            "2019-12-24 16:13:17,094 : INFO : EPOCH 5 - PROGRESS: at 81.67% examples, 114310 words/s, in_qsize 5, out_qsize 0\n",
            "2019-12-24 16:13:18,125 : INFO : EPOCH 5 - PROGRESS: at 84.64% examples, 114380 words/s, in_qsize 5, out_qsize 0\n",
            "2019-12-24 16:13:19,156 : INFO : EPOCH 5 - PROGRESS: at 87.60% examples, 114455 words/s, in_qsize 5, out_qsize 0\n",
            "2019-12-24 16:13:20,179 : INFO : EPOCH 5 - PROGRESS: at 90.57% examples, 114586 words/s, in_qsize 5, out_qsize 0\n",
            "2019-12-24 16:13:21,217 : INFO : EPOCH 5 - PROGRESS: at 93.40% examples, 114553 words/s, in_qsize 5, out_qsize 0\n",
            "2019-12-24 16:13:22,242 : INFO : EPOCH 5 - PROGRESS: at 96.23% examples, 114522 words/s, in_qsize 5, out_qsize 0\n",
            "2019-12-24 16:13:23,256 : INFO : EPOCH 5 - PROGRESS: at 99.33% examples, 114786 words/s, in_qsize 5, out_qsize 0\n",
            "2019-12-24 16:13:23,410 : INFO : worker thread finished; awaiting finish of 2 more threads\n",
            "2019-12-24 16:13:23,418 : INFO : worker thread finished; awaiting finish of 1 more threads\n",
            "2019-12-24 16:13:23,429 : INFO : worker thread finished; awaiting finish of 0 more threads\n",
            "2019-12-24 16:13:23,430 : INFO : EPOCH - 5 : training on 7412797 raw words (4055979 effective words) took 35.3s, 114889 effective words/s\n",
            "2019-12-24 16:13:23,431 : INFO : training on a 37063985 raw words (20283236 effective words) took 176.6s, 114822 effective words/s\n",
            "2019-12-24 16:13:23,435 : INFO : storing 88764x100 projection weights into models_sna/text8_cl_gs.vec\n"
          ],
          "name": "stderr"
        },
        {
          "output_type": "stream",
          "text": [
            "CPU times: user 6min 9s, sys: 1.6 s, total: 6min 10s\n",
            "Wall time: 3min 22s\n",
            "\n",
            "Saved gensim model as text8_cl_gs.vec\n"
          ],
          "name": "stdout"
        }
      ]
    },
    {
      "cell_type": "code",
      "metadata": {
        "id": "W1WAXQnN80xx",
        "colab_type": "code",
        "outputId": "b872b654-f8f7-48d7-8649-8c94214314a9",
        "colab": {
          "base_uri": "https://localhost:8080/",
          "height": 85
        }
      },
      "source": [
        "train_models('brown_corp.txt', 'brown')"
      ],
      "execution_count": 0,
      "outputs": [
        {
          "output_type": "stream",
          "text": [
            "\n",
            "Using existing model file brown_ft.vec\n",
            "\n",
            "Using existing model file brown_gs.vec\n"
          ],
          "name": "stdout"
        }
      ]
    },
    {
      "cell_type": "code",
      "metadata": {
        "id": "DMoEHbm-7lge",
        "colab_type": "code",
        "colab": {}
      },
      "source": [
        "!rm models_sna/brown_corp_cl_gs.vec"
      ],
      "execution_count": 0,
      "outputs": []
    },
    {
      "cell_type": "code",
      "metadata": {
        "id": "YajoKVV97Idl",
        "colab_type": "code",
        "outputId": "454de9b7-01e2-4128-acfa-81510e204724",
        "colab": {
          "base_uri": "https://localhost:8080/",
          "height": 292
        }
      },
      "source": [
        "train_models(corpus_file='brown_corp_cl.txt', output_name='brown_corp_cl')"
      ],
      "execution_count": 0,
      "outputs": [
        {
          "output_type": "stream",
          "text": [
            "Training fasttext on brown_corp_cl.txt corpus..\n",
            "Read 0M words\n",
            "Number of words:  11389\n",
            "Number of labels: 0\n",
            "Progress: 100.0% words/sec/thread:    8324 lr:  0.000000 loss:  2.409277 ETA:   0h 0m\n",
            "CPU times: user 441 ms, sys: 112 ms, total: 553 ms\n",
            "Wall time: 42.5 s\n",
            "\n",
            "Training word2vec on brown_corp_cl.txt corpus..\n"
          ],
          "name": "stdout"
        },
        {
          "output_type": "stream",
          "text": [
            "/usr/local/lib/python3.6/dist-packages/smart_open/smart_open_lib.py:402: UserWarning: This function is deprecated, use smart_open.open instead. See the migration notes for details: https://github.com/RaRe-Technologies/smart_open/blob/master/README.rst#migrating-to-the-new-open-function\n",
            "  'See the migration notes for details: %s' % _MIGRATION_NOTES_URL\n"
          ],
          "name": "stderr"
        },
        {
          "output_type": "stream",
          "text": [
            "CPU times: user 19.8 s, sys: 120 ms, total: 20 s\n",
            "Wall time: 11.6 s\n",
            "\n",
            "Saved gensim model as brown_corp_cl_gs.vec\n"
          ],
          "name": "stdout"
        }
      ]
    },
    {
      "cell_type": "markdown",
      "metadata": {
        "id": "2ssb7nqL-W0f",
        "colab_type": "text"
      },
      "source": [
        "# Comparisons"
      ]
    },
    {
      "cell_type": "code",
      "metadata": {
        "id": "xva78jZk-W0h",
        "colab_type": "code",
        "outputId": "ff3aecf6-6743-44ee-f076-99156be7cdf0",
        "colab": {
          "base_uri": "https://localhost:8080/",
          "height": 204
        }
      },
      "source": [
        "# download the file questions-words.txt to be used for comparing word embeddings\n",
        "!wget https://raw.githubusercontent.com/tmikolov/word2vec/master/questions-words.txt"
      ],
      "execution_count": 0,
      "outputs": [
        {
          "output_type": "stream",
          "text": [
            "--2019-12-24 15:58:36--  https://raw.githubusercontent.com/tmikolov/word2vec/master/questions-words.txt\n",
            "Resolving raw.githubusercontent.com (raw.githubusercontent.com)... 151.101.0.133, 151.101.64.133, 151.101.128.133, ...\n",
            "Connecting to raw.githubusercontent.com (raw.githubusercontent.com)|151.101.0.133|:443... connected.\n",
            "HTTP request sent, awaiting response... 200 OK\n",
            "Length: 603955 (590K) [text/plain]\n",
            "Saving to: ‘questions-words.txt.1’\n",
            "\n",
            "questions-words.txt 100%[===================>] 589.80K  --.-KB/s    in 0.06s   \n",
            "\n",
            "2019-12-24 15:58:38 (8.89 MB/s) - ‘questions-words.txt.1’ saved [603955/603955]\n",
            "\n"
          ],
          "name": "stdout"
        }
      ]
    },
    {
      "cell_type": "code",
      "metadata": {
        "id": "O9rluLZt-W0q",
        "colab_type": "code",
        "colab": {}
      },
      "source": [
        "import logging\n",
        "logging.basicConfig(format='%(asctime)s : %(levelname)s : %(message)s', level=logging.INFO)\n",
        "\n",
        "# Training times in seconds\n",
        "evaluation_data['brown'] = [(18.4, 56.2)]\n",
        "evaluation_data['text8'] = [(8, 14)]\n",
        "evaluation_data['brown_cl'] = [(11.6, 42.5)]\n",
        "evaluation_data['text8_cl'] = [(3.22, 10.56)]\n",
        "\n",
        "def print_accuracy(model, questions_file):\n",
        "    print('Evaluating...\\n')\n",
        "    acc = model.accuracy(questions_file)\n",
        "\n",
        "    sem_correct = sum((len(acc[i]['correct']) for i in range(5)))\n",
        "    sem_total = sum((len(acc[i]['correct']) + len(acc[i]['incorrect'])) for i in range(5))\n",
        "    sem_acc = 100*float(sem_correct)/sem_total\n",
        "    print('\\nSemantic: {:d}/{:d}, Accuracy: {:.2f}%'.format(sem_correct, sem_total, sem_acc))\n",
        "    \n",
        "    syn_correct = sum((len(acc[i]['correct']) for i in range(5, len(acc)-1)))\n",
        "    syn_total = sum((len(acc[i]['correct']) + len(acc[i]['incorrect'])) for i in range(5,len(acc)-1))\n",
        "    syn_acc = 100*float(syn_correct)/syn_total\n",
        "    print('Syntactic: {:d}/{:d}, Accuracy: {:.2f}%\\n'.format(syn_correct, syn_total, syn_acc))\n",
        "    return (sem_acc, syn_acc)\n",
        "\n",
        "word_analogies_file = 'questions-words.txt'\n",
        "accuracies = []"
      ],
      "execution_count": 0,
      "outputs": []
    },
    {
      "cell_type": "code",
      "metadata": {
        "id": "GUjRfYUbpXX2",
        "colab_type": "code",
        "outputId": "c0b355ad-dc4e-49e2-8fb9-26c427eb6838",
        "colab": {
          "base_uri": "https://localhost:8080/",
          "height": 1000
        }
      },
      "source": [
        "print('\\nLoading Gensim embeddings')\n",
        "brown_gs = KeyedVectors.load_word2vec_format(MODELS_DIR + 'text8_gs.vec')\n",
        "print('Accuracy for Word2Vec:')\n",
        "accuracies.append(print_accuracy(brown_gs, word_analogies_file))\n",
        "\n",
        "print('\\nLoading FastText embeddings')\n",
        "brown_ft = KeyedVectors.load_word2vec_format(MODELS_DIR + 'text8_ft.vec')\n",
        "print('Accuracy for FastText (with n-grams):')\n",
        "accuracies.append(print_accuracy(brown_ft, word_analogies_file))\n",
        "\n",
        "evaluation_data['text8'] += [[acc[0] for acc in accuracies], [acc[1] for acc in accuracies]]"
      ],
      "execution_count": 0,
      "outputs": [
        {
          "output_type": "stream",
          "text": [
            "2019-12-24 16:27:47,888 : INFO : loading projection weights from models_sna/text8_gs.vec\n"
          ],
          "name": "stderr"
        },
        {
          "output_type": "stream",
          "text": [
            "\n",
            "Loading Gensim embeddings\n"
          ],
          "name": "stdout"
        },
        {
          "output_type": "stream",
          "text": [
            "/usr/local/lib/python3.6/dist-packages/smart_open/smart_open_lib.py:402: UserWarning: This function is deprecated, use smart_open.open instead. See the migration notes for details: https://github.com/RaRe-Technologies/smart_open/blob/master/README.rst#migrating-to-the-new-open-function\n",
            "  'See the migration notes for details: %s' % _MIGRATION_NOTES_URL\n",
            "2019-12-24 16:27:55,483 : INFO : loaded (71290, 100) matrix from models_sna/text8_gs.vec\n",
            "/usr/local/lib/python3.6/dist-packages/ipykernel_launcher.py:12: DeprecationWarning: Call to deprecated `accuracy` (Method will be removed in 4.0.0, use self.evaluate_word_analogies() instead).\n",
            "  if sys.path[0] == '':\n"
          ],
          "name": "stderr"
        },
        {
          "output_type": "stream",
          "text": [
            "Accuracy for Word2Vec:\n",
            "Evaluating...\n",
            "\n"
          ],
          "name": "stdout"
        },
        {
          "output_type": "stream",
          "text": [
            "2019-12-24 16:27:56,858 : INFO : precomputing L2-norms of word weight vectors\n",
            "/usr/local/lib/python3.6/dist-packages/gensim/matutils.py:737: FutureWarning: Conversion of the second argument of issubdtype from `int` to `np.signedinteger` is deprecated. In future, it will be treated as `np.int64 == np.dtype(int).type`.\n",
            "  if np.issubdtype(vec.dtype, np.int):\n",
            "2019-12-24 16:27:59,494 : INFO : capital-common-countries: 69.8% (353/506)\n",
            "2019-12-24 16:28:06,891 : INFO : capital-world: 44.8% (650/1452)\n",
            "2019-12-24 16:28:08,271 : INFO : currency: 19.8% (53/268)\n",
            "2019-12-24 16:28:16,308 : INFO : city-in-state: 26.0% (409/1571)\n",
            "2019-12-24 16:28:18,099 : INFO : family: 63.4% (194/306)\n",
            "2019-12-24 16:28:22,041 : INFO : gram1-adjective-to-adverb: 14.0% (106/756)\n",
            "2019-12-24 16:28:23,596 : INFO : gram2-opposite: 10.1% (31/306)\n",
            "2019-12-24 16:28:30,022 : INFO : gram3-comparative: 50.6% (637/1260)\n",
            "2019-12-24 16:28:32,619 : INFO : gram4-superlative: 32.6% (165/506)\n",
            "2019-12-24 16:28:37,656 : INFO : gram5-present-participle: 19.5% (193/992)\n",
            "2019-12-24 16:28:44,501 : INFO : gram6-nationality-adjective: 77.8% (1066/1371)\n",
            "2019-12-24 16:28:51,247 : INFO : gram7-past-tense: 34.1% (454/1332)\n",
            "2019-12-24 16:28:56,329 : INFO : gram8-plural: 51.3% (509/992)\n",
            "2019-12-24 16:28:59,625 : INFO : gram9-plural-verbs: 25.1% (163/650)\n",
            "2019-12-24 16:28:59,627 : INFO : total: 40.6% (4983/12268)\n",
            "2019-12-24 16:28:59,638 : INFO : loading projection weights from models_sna/text8_ft.vec\n"
          ],
          "name": "stderr"
        },
        {
          "output_type": "stream",
          "text": [
            "\n",
            "Semantic: 1659/4103, Accuracy: 40.43%\n",
            "Syntactic: 3324/8165, Accuracy: 40.71%\n",
            "\n",
            "\n",
            "Loading FastText embeddings\n"
          ],
          "name": "stdout"
        },
        {
          "output_type": "stream",
          "text": [
            "2019-12-24 16:29:07,446 : INFO : loaded (71290, 100) matrix from models_sna/text8_ft.vec\n",
            "2019-12-24 16:29:07,486 : INFO : precomputing L2-norms of word weight vectors\n"
          ],
          "name": "stderr"
        },
        {
          "output_type": "stream",
          "text": [
            "Accuracy for FastText (with n-grams):\n",
            "Evaluating...\n",
            "\n"
          ],
          "name": "stdout"
        },
        {
          "output_type": "stream",
          "text": [
            "2019-12-24 16:29:10,153 : INFO : capital-common-countries: 67.2% (340/506)\n",
            "2019-12-24 16:29:17,669 : INFO : capital-world: 42.8% (622/1452)\n",
            "2019-12-24 16:29:19,060 : INFO : currency: 12.3% (33/268)\n",
            "2019-12-24 16:29:26,798 : INFO : city-in-state: 19.3% (292/1511)\n",
            "2019-12-24 16:29:28,351 : INFO : family: 52.9% (162/306)\n",
            "2019-12-24 16:29:32,101 : INFO : gram1-adjective-to-adverb: 75.1% (568/756)\n",
            "2019-12-24 16:29:33,628 : INFO : gram2-opposite: 56.9% (174/306)\n",
            "2019-12-24 16:29:39,879 : INFO : gram3-comparative: 70.6% (889/1260)\n",
            "2019-12-24 16:29:42,421 : INFO : gram4-superlative: 59.3% (300/506)\n",
            "2019-12-24 16:29:47,405 : INFO : gram5-present-participle: 55.3% (549/992)\n",
            "2019-12-24 16:29:54,270 : INFO : gram6-nationality-adjective: 93.4% (1280/1371)\n",
            "2019-12-24 16:30:01,006 : INFO : gram7-past-tense: 34.2% (456/1332)\n",
            "2019-12-24 16:30:06,104 : INFO : gram8-plural: 88.2% (875/992)\n",
            "2019-12-24 16:30:09,415 : INFO : gram9-plural-verbs: 58.0% (377/650)\n",
            "2019-12-24 16:30:09,417 : INFO : total: 56.7% (6917/12208)\n"
          ],
          "name": "stderr"
        },
        {
          "output_type": "stream",
          "text": [
            "\n",
            "Semantic: 1449/4043, Accuracy: 35.84%\n",
            "Syntactic: 5468/8165, Accuracy: 66.97%\n",
            "\n"
          ],
          "name": "stdout"
        }
      ]
    },
    {
      "cell_type": "code",
      "metadata": {
        "id": "ym-JgrdDfP_9",
        "colab_type": "code",
        "outputId": "f965d209-98f4-41dd-effe-3c4d2f6b9455",
        "colab": {
          "base_uri": "https://localhost:8080/",
          "height": 1000
        }
      },
      "source": [
        "print('\\nLoading Gensim embeddings')\n",
        "brown_gs = KeyedVectors.load_word2vec_format(MODELS_DIR + 'text8_cl_gs.vec')\n",
        "print('Accuracy for Word2Vec:')\n",
        "accuracies.append(print_accuracy(brown_gs, word_analogies_file))\n",
        "\n",
        "print('\\nLoading FastText embeddings')\n",
        "brown_ft = KeyedVectors.load_word2vec_format(MODELS_DIR + 'text8_cl_ft.vec')\n",
        "print('Accuracy for FastText (with n-grams):')\n",
        "accuracies.append(print_accuracy(brown_ft, word_analogies_file))\n",
        "\n",
        "evaluation_data['text8_cl'] += [[acc[0] for acc in accuracies], [acc[1] for acc in accuracies]]"
      ],
      "execution_count": 0,
      "outputs": [
        {
          "output_type": "stream",
          "text": [
            "2019-12-24 16:30:09,452 : INFO : loading projection weights from models_sna/text8_cl_gs.vec\n",
            "/usr/local/lib/python3.6/dist-packages/smart_open/smart_open_lib.py:402: UserWarning: This function is deprecated, use smart_open.open instead. See the migration notes for details: https://github.com/RaRe-Technologies/smart_open/blob/master/README.rst#migrating-to-the-new-open-function\n",
            "  'See the migration notes for details: %s' % _MIGRATION_NOTES_URL\n"
          ],
          "name": "stderr"
        },
        {
          "output_type": "stream",
          "text": [
            "\n",
            "Loading Gensim embeddings\n"
          ],
          "name": "stdout"
        },
        {
          "output_type": "stream",
          "text": [
            "2019-12-24 16:30:19,802 : INFO : loaded (88764, 100) matrix from models_sna/text8_cl_gs.vec\n",
            "/usr/local/lib/python3.6/dist-packages/ipykernel_launcher.py:12: DeprecationWarning: Call to deprecated `accuracy` (Method will be removed in 4.0.0, use self.evaluate_word_analogies() instead).\n",
            "  if sys.path[0] == '':\n",
            "2019-12-24 16:30:19,851 : INFO : precomputing L2-norms of word weight vectors\n",
            "/usr/local/lib/python3.6/dist-packages/gensim/matutils.py:737: FutureWarning: Conversion of the second argument of issubdtype from `int` to `np.signedinteger` is deprecated. In future, it will be treated as `np.int64 == np.dtype(int).type`.\n",
            "  if np.issubdtype(vec.dtype, np.int):\n"
          ],
          "name": "stderr"
        },
        {
          "output_type": "stream",
          "text": [
            "Accuracy for Word2Vec:\n",
            "Evaluating...\n",
            "\n"
          ],
          "name": "stdout"
        },
        {
          "output_type": "stream",
          "text": [
            "2019-12-24 16:30:21,638 : INFO : capital-common-countries: 29.2% (100/342)\n",
            "2019-12-24 16:30:25,222 : INFO : capital-world: 14.0% (98/699)\n",
            "2019-12-24 16:30:26,426 : INFO : currency: 13.6% (32/236)\n",
            "2019-12-24 16:30:32,302 : INFO : city-in-state: 6.7% (77/1152)\n",
            "2019-12-24 16:30:33,238 : INFO : family: 11.0% (20/182)\n",
            "2019-12-24 16:30:36,593 : INFO : gram1-adjective-to-adverb: 2.8% (18/650)\n",
            "2019-12-24 16:30:37,281 : INFO : gram2-opposite: 3.8% (5/132)\n",
            "2019-12-24 16:30:43,039 : INFO : gram3-comparative: 12.9% (145/1122)\n",
            "2019-12-24 16:30:44,786 : INFO : gram4-superlative: 7.3% (25/342)\n",
            "2019-12-24 16:30:48,100 : INFO : gram5-present-participle: 1.7% (11/650)\n",
            "2019-12-24 16:30:55,033 : INFO : gram6-nationality-adjective: 56.5% (775/1371)\n",
            "2019-12-24 16:31:00,041 : INFO : gram7-past-tense: 5.1% (51/992)\n",
            "2019-12-24 16:31:05,101 : INFO : gram8-plural: 23.8% (236/992)\n",
            "2019-12-24 16:31:07,469 : INFO : gram9-plural-verbs: 3.7% (17/462)\n",
            "2019-12-24 16:31:07,475 : INFO : total: 17.3% (1610/9324)\n",
            "2019-12-24 16:31:07,490 : INFO : loading projection weights from models_sna/text8_cl_ft.vec\n"
          ],
          "name": "stderr"
        },
        {
          "output_type": "stream",
          "text": [
            "\n",
            "Semantic: 327/2611, Accuracy: 12.52%\n",
            "Syntactic: 1283/6713, Accuracy: 19.11%\n",
            "\n",
            "\n",
            "Loading FastText embeddings\n"
          ],
          "name": "stdout"
        },
        {
          "output_type": "stream",
          "text": [
            "2019-12-24 16:31:16,801 : INFO : loaded (88764, 100) matrix from models_sna/text8_cl_ft.vec\n",
            "2019-12-24 16:31:16,856 : INFO : precomputing L2-norms of word weight vectors\n"
          ],
          "name": "stderr"
        },
        {
          "output_type": "stream",
          "text": [
            "Accuracy for FastText (with n-grams):\n",
            "Evaluating...\n",
            "\n"
          ],
          "name": "stdout"
        },
        {
          "output_type": "stream",
          "text": [
            "2019-12-24 16:31:18,628 : INFO : capital-common-countries: 32.2% (110/342)\n",
            "2019-12-24 16:31:22,185 : INFO : capital-world: 19.2% (134/699)\n",
            "2019-12-24 16:31:23,381 : INFO : currency: 7.2% (17/236)\n",
            "2019-12-24 16:31:29,434 : INFO : city-in-state: 9.2% (111/1203)\n",
            "2019-12-24 16:31:30,358 : INFO : family: 20.9% (38/182)\n",
            "2019-12-24 16:31:33,611 : INFO : gram1-adjective-to-adverb: 69.1% (449/650)\n",
            "2019-12-24 16:31:34,284 : INFO : gram2-opposite: 68.2% (90/132)\n",
            "2019-12-24 16:31:40,000 : INFO : gram3-comparative: 54.5% (611/1122)\n",
            "2019-12-24 16:31:41,808 : INFO : gram4-superlative: 41.2% (141/342)\n",
            "2019-12-24 16:31:45,072 : INFO : gram5-present-participle: 32.3% (210/650)\n",
            "2019-12-24 16:31:51,899 : INFO : gram6-nationality-adjective: 82.5% (1131/1371)\n",
            "2019-12-24 16:31:56,856 : INFO : gram7-past-tense: 13.2% (131/992)\n",
            "2019-12-24 16:32:01,782 : INFO : gram8-plural: 79.3% (787/992)\n",
            "2019-12-24 16:32:04,140 : INFO : gram9-plural-verbs: 59.5% (275/462)\n",
            "2019-12-24 16:32:04,146 : INFO : total: 45.2% (4235/9375)\n"
          ],
          "name": "stderr"
        },
        {
          "output_type": "stream",
          "text": [
            "\n",
            "Semantic: 410/2662, Accuracy: 15.40%\n",
            "Syntactic: 3825/6713, Accuracy: 56.98%\n",
            "\n"
          ],
          "name": "stdout"
        }
      ]
    },
    {
      "cell_type": "code",
      "metadata": {
        "id": "18oLUSrGphD9",
        "colab_type": "code",
        "outputId": "64ca2f63-17f3-4054-dad8-857fca87002f",
        "colab": {
          "base_uri": "https://localhost:8080/",
          "height": 1000
        }
      },
      "source": [
        "print('\\nLoading Gensim embeddings')\n",
        "brown_gs = KeyedVectors.load_word2vec_format(MODELS_DIR + 'brown_gs.vec')\n",
        "print('Accuracy for Word2Vec:')\n",
        "accuracies.append(print_accuracy(brown_gs, word_analogies_file))\n",
        "\n",
        "print('\\nLoading FastText embeddings')\n",
        "brown_ft = KeyedVectors.load_word2vec_format(MODELS_DIR + 'brown_ft.vec')\n",
        "print('Accuracy for FastText (with n-grams):')\n",
        "accuracies.append(print_accuracy(brown_ft, word_analogies_file))\n",
        "\n",
        "evaluation_data['brown'] += [[acc[0] for acc in accuracies], [acc[1] for acc in accuracies]]"
      ],
      "execution_count": 0,
      "outputs": [
        {
          "output_type": "stream",
          "text": [
            "2019-12-24 16:32:05,037 : INFO : loading projection weights from models_sna/brown_gs.vec\n"
          ],
          "name": "stderr"
        },
        {
          "output_type": "stream",
          "text": [
            "\n",
            "Loading Gensim embeddings\n"
          ],
          "name": "stdout"
        },
        {
          "output_type": "stream",
          "text": [
            "/usr/local/lib/python3.6/dist-packages/smart_open/smart_open_lib.py:402: UserWarning: This function is deprecated, use smart_open.open instead. See the migration notes for details: https://github.com/RaRe-Technologies/smart_open/blob/master/README.rst#migrating-to-the-new-open-function\n",
            "  'See the migration notes for details: %s' % _MIGRATION_NOTES_URL\n",
            "2019-12-24 16:32:06,630 : INFO : loaded (15173, 100) matrix from models_sna/brown_gs.vec\n",
            "/usr/local/lib/python3.6/dist-packages/ipykernel_launcher.py:12: DeprecationWarning: Call to deprecated `accuracy` (Method will be removed in 4.0.0, use self.evaluate_word_analogies() instead).\n",
            "  if sys.path[0] == '':\n",
            "2019-12-24 16:32:06,669 : INFO : precomputing L2-norms of word weight vectors\n",
            "/usr/local/lib/python3.6/dist-packages/gensim/matutils.py:737: FutureWarning: Conversion of the second argument of issubdtype from `int` to `np.signedinteger` is deprecated. In future, it will be treated as `np.int64 == np.dtype(int).type`.\n",
            "  if np.issubdtype(vec.dtype, np.int):\n"
          ],
          "name": "stderr"
        },
        {
          "output_type": "stream",
          "text": [
            "Accuracy for Word2Vec:\n",
            "Evaluating...\n",
            "\n"
          ],
          "name": "stdout"
        },
        {
          "output_type": "stream",
          "text": [
            "2019-12-24 16:32:06,905 : INFO : capital-common-countries: 5.6% (5/90)\n",
            "2019-12-24 16:32:07,053 : INFO : capital-world: 2.3% (1/44)\n",
            "2019-12-24 16:32:07,095 : INFO : currency: 0.0% (0/12)\n",
            "2019-12-24 16:32:08,222 : INFO : city-in-state: 0.4% (2/457)\n",
            "2019-12-24 16:32:08,745 : INFO : family: 12.9% (27/210)\n",
            "2019-12-24 16:32:10,562 : INFO : gram1-adjective-to-adverb: 0.4% (3/756)\n",
            "2019-12-24 16:32:10,883 : INFO : gram2-opposite: 2.3% (3/132)\n",
            "2019-12-24 16:32:13,398 : INFO : gram3-comparative: 3.4% (36/1056)\n",
            "2019-12-24 16:32:13,902 : INFO : gram4-superlative: 0.0% (0/210)\n",
            "2019-12-24 16:32:15,435 : INFO : gram5-present-participle: 1.5% (10/650)\n",
            "2019-12-24 16:32:16,144 : INFO : gram6-nationality-adjective: 2.0% (6/297)\n",
            "2019-12-24 16:32:19,090 : INFO : gram7-past-tense: 0.6% (8/1260)\n",
            "2019-12-24 16:32:20,404 : INFO : gram8-plural: 8.7% (48/552)\n",
            "2019-12-24 16:32:21,227 : INFO : gram9-plural-verbs: 0.3% (1/342)\n",
            "2019-12-24 16:32:21,229 : INFO : total: 2.5% (150/6068)\n",
            "2019-12-24 16:32:21,235 : INFO : loading projection weights from models_sna/brown_ft.vec\n"
          ],
          "name": "stderr"
        },
        {
          "output_type": "stream",
          "text": [
            "\n",
            "Semantic: 35/813, Accuracy: 4.31%\n",
            "Syntactic: 115/5255, Accuracy: 2.19%\n",
            "\n",
            "\n",
            "Loading FastText embeddings\n"
          ],
          "name": "stdout"
        },
        {
          "output_type": "stream",
          "text": [
            "2019-12-24 16:32:22,862 : INFO : loaded (15173, 100) matrix from models_sna/brown_ft.vec\n",
            "2019-12-24 16:32:22,900 : INFO : precomputing L2-norms of word weight vectors\n"
          ],
          "name": "stderr"
        },
        {
          "output_type": "stream",
          "text": [
            "Accuracy for FastText (with n-grams):\n",
            "Evaluating...\n",
            "\n"
          ],
          "name": "stdout"
        },
        {
          "output_type": "stream",
          "text": [
            "2019-12-24 16:32:23,127 : INFO : capital-common-countries: 0.0% (0/90)\n",
            "2019-12-24 16:32:23,263 : INFO : capital-world: 0.0% (0/44)\n",
            "2019-12-24 16:32:23,303 : INFO : currency: 0.0% (0/12)\n",
            "2019-12-24 16:32:24,399 : INFO : city-in-state: 2.8% (13/457)\n",
            "2019-12-24 16:32:24,898 : INFO : family: 18.6% (39/210)\n",
            "2019-12-24 16:32:26,681 : INFO : gram1-adjective-to-adverb: 68.5% (518/756)\n",
            "2019-12-24 16:32:27,023 : INFO : gram2-opposite: 78.0% (103/132)\n",
            "2019-12-24 16:32:29,521 : INFO : gram3-comparative: 60.0% (634/1056)\n",
            "2019-12-24 16:32:30,033 : INFO : gram4-superlative: 76.7% (161/210)\n",
            "2019-12-24 16:32:31,574 : INFO : gram5-present-participle: 65.7% (427/650)\n",
            "2019-12-24 16:32:32,301 : INFO : gram6-nationality-adjective: 34.7% (103/297)\n",
            "2019-12-24 16:32:35,273 : INFO : gram7-past-tense: 11.3% (142/1260)\n",
            "2019-12-24 16:32:36,580 : INFO : gram8-plural: 52.4% (289/552)\n",
            "2019-12-24 16:32:37,395 : INFO : gram9-plural-verbs: 76.0% (260/342)\n",
            "2019-12-24 16:32:37,396 : INFO : total: 44.3% (2689/6068)\n"
          ],
          "name": "stderr"
        },
        {
          "output_type": "stream",
          "text": [
            "\n",
            "Semantic: 52/813, Accuracy: 6.40%\n",
            "Syntactic: 2637/5255, Accuracy: 50.18%\n",
            "\n"
          ],
          "name": "stdout"
        }
      ]
    },
    {
      "cell_type": "code",
      "metadata": {
        "id": "uwTdCWyd9Wdx",
        "colab_type": "code",
        "outputId": "e98b2d93-4b59-4354-b581-bcab41cee2f7",
        "colab": {
          "base_uri": "https://localhost:8080/",
          "height": 1000
        }
      },
      "source": [
        "print('\\nLoading Gensim embeddings')\n",
        "brown_gs = KeyedVectors.load_word2vec_format(MODELS_DIR + 'brown_corp_cl_gs.vec')\n",
        "print('Accuracy for Word2Vec:')\n",
        "accuracies.append(print_accuracy(brown_gs, word_analogies_file))\n",
        "\n",
        "print('\\nLoading FastText embeddings')\n",
        "brown_ft = KeyedVectors.load_word2vec_format(MODELS_DIR + 'brown_corp_cl_ft.vec')\n",
        "print('Accuracy for FastText (with n-grams):')\n",
        "accuracies.append(print_accuracy(brown_ft, word_analogies_file))\n",
        "\n",
        "evaluation_data['brown_cl'] += [[acc[0] for acc in accuracies], [acc[1] for acc in accuracies]]"
      ],
      "execution_count": 0,
      "outputs": [
        {
          "output_type": "stream",
          "text": [
            "2019-12-24 16:32:37,428 : INFO : loading projection weights from models_sna/brown_corp_cl_gs.vec\n",
            "/usr/local/lib/python3.6/dist-packages/smart_open/smart_open_lib.py:402: UserWarning: This function is deprecated, use smart_open.open instead. See the migration notes for details: https://github.com/RaRe-Technologies/smart_open/blob/master/README.rst#migrating-to-the-new-open-function\n",
            "  'See the migration notes for details: %s' % _MIGRATION_NOTES_URL\n"
          ],
          "name": "stderr"
        },
        {
          "output_type": "stream",
          "text": [
            "\n",
            "Loading Gensim embeddings\n"
          ],
          "name": "stdout"
        },
        {
          "output_type": "stream",
          "text": [
            "2019-12-24 16:32:38,677 : INFO : loaded (11389, 100) matrix from models_sna/brown_corp_cl_gs.vec\n",
            "/usr/local/lib/python3.6/dist-packages/ipykernel_launcher.py:12: DeprecationWarning: Call to deprecated `accuracy` (Method will be removed in 4.0.0, use self.evaluate_word_analogies() instead).\n",
            "  if sys.path[0] == '':\n"
          ],
          "name": "stderr"
        },
        {
          "output_type": "stream",
          "text": [
            "Accuracy for Word2Vec:\n",
            "Evaluating...\n",
            "\n"
          ],
          "name": "stdout"
        },
        {
          "output_type": "stream",
          "text": [
            "2019-12-24 16:32:39,653 : INFO : precomputing L2-norms of word weight vectors\n",
            "/usr/local/lib/python3.6/dist-packages/gensim/matutils.py:737: FutureWarning: Conversion of the second argument of issubdtype from `int` to `np.signedinteger` is deprecated. In future, it will be treated as `np.int64 == np.dtype(int).type`.\n",
            "  if np.issubdtype(vec.dtype, np.int):\n",
            "2019-12-24 16:32:39,716 : INFO : capital-common-countries: 0.0% (0/30)\n",
            "2019-12-24 16:32:39,771 : INFO : capital-world: 0.0% (0/14)\n",
            "2019-12-24 16:32:39,784 : INFO : currency: 0.0% (0/2)\n",
            "2019-12-24 16:32:40,064 : INFO : city-in-state: 0.0% (0/142)\n",
            "2019-12-24 16:32:40,271 : INFO : family: 0.0% (0/110)\n",
            "2019-12-24 16:32:41,317 : INFO : gram1-adjective-to-adverb: 0.3% (2/600)\n",
            "2019-12-24 16:32:41,426 : INFO : gram2-opposite: 0.0% (0/56)\n",
            "2019-12-24 16:32:42,551 : INFO : gram3-comparative: 0.2% (1/650)\n",
            "2019-12-24 16:32:42,755 : INFO : gram4-superlative: 0.0% (0/110)\n",
            "2019-12-24 16:32:43,424 : INFO : gram5-present-participle: 0.3% (1/380)\n",
            "2019-12-24 16:32:43,587 : INFO : gram6-nationality-adjective: 1.1% (1/87)\n",
            "2019-12-24 16:32:44,898 : INFO : gram7-past-tense: 0.9% (7/756)\n",
            "2019-12-24 16:32:45,714 : INFO : gram8-plural: 1.3% (6/462)\n",
            "2019-12-24 16:32:46,043 : INFO : gram9-plural-verbs: 0.5% (1/182)\n",
            "2019-12-24 16:32:46,044 : INFO : total: 0.5% (19/3581)\n",
            "2019-12-24 16:32:46,047 : INFO : loading projection weights from models_sna/brown_corp_cl_ft.vec\n"
          ],
          "name": "stderr"
        },
        {
          "output_type": "stream",
          "text": [
            "\n",
            "Semantic: 0/298, Accuracy: 0.00%\n",
            "Syntactic: 19/3283, Accuracy: 0.58%\n",
            "\n",
            "\n",
            "Loading FastText embeddings\n"
          ],
          "name": "stdout"
        },
        {
          "output_type": "stream",
          "text": [
            "2019-12-24 16:32:47,293 : INFO : loaded (11389, 100) matrix from models_sna/brown_corp_cl_ft.vec\n",
            "2019-12-24 16:32:47,321 : INFO : precomputing L2-norms of word weight vectors\n",
            "2019-12-24 16:32:47,391 : INFO : capital-common-countries: 0.0% (0/30)\n",
            "2019-12-24 16:32:47,448 : INFO : capital-world: 0.0% (0/14)\n",
            "2019-12-24 16:32:47,461 : INFO : currency: 0.0% (0/2)\n"
          ],
          "name": "stderr"
        },
        {
          "output_type": "stream",
          "text": [
            "Accuracy for FastText (with n-grams):\n",
            "Evaluating...\n",
            "\n"
          ],
          "name": "stdout"
        },
        {
          "output_type": "stream",
          "text": [
            "2019-12-24 16:32:47,737 : INFO : city-in-state: 0.7% (1/142)\n",
            "2019-12-24 16:32:47,938 : INFO : family: 8.2% (9/110)\n",
            "2019-12-24 16:32:49,012 : INFO : gram1-adjective-to-adverb: 67.5% (405/600)\n",
            "2019-12-24 16:32:49,125 : INFO : gram2-opposite: 80.4% (45/56)\n",
            "2019-12-24 16:32:50,288 : INFO : gram3-comparative: 38.6% (251/650)\n",
            "2019-12-24 16:32:50,498 : INFO : gram4-superlative: 68.2% (75/110)\n",
            "2019-12-24 16:32:51,179 : INFO : gram5-present-participle: 57.4% (218/380)\n",
            "2019-12-24 16:32:51,342 : INFO : gram6-nationality-adjective: 23.0% (20/87)\n",
            "2019-12-24 16:32:52,672 : INFO : gram7-past-tense: 4.4% (33/756)\n",
            "2019-12-24 16:32:53,502 : INFO : gram8-plural: 50.0% (231/462)\n",
            "2019-12-24 16:32:53,833 : INFO : gram9-plural-verbs: 64.3% (117/182)\n",
            "2019-12-24 16:32:53,839 : INFO : total: 39.2% (1405/3581)\n"
          ],
          "name": "stderr"
        },
        {
          "output_type": "stream",
          "text": [
            "\n",
            "Semantic: 10/298, Accuracy: 3.36%\n",
            "Syntactic: 1395/3283, Accuracy: 42.49%\n",
            "\n"
          ],
          "name": "stdout"
        }
      ]
    },
    {
      "cell_type": "code",
      "metadata": {
        "id": "OwZ8vxontyi1",
        "colab_type": "code",
        "colab": {}
      },
      "source": [
        ""
      ],
      "execution_count": 0,
      "outputs": []
    }
  ]
}